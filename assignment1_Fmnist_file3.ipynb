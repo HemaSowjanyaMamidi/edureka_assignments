{
  "nbformat": 4,
  "nbformat_minor": 0,
  "metadata": {
    "colab": {
      "name": "Fmnist_file3.ipynb",
      "provenance": [],
      "collapsed_sections": [
        "CmWG0V17hQZ4"
      ]
    },
    "kernelspec": {
      "name": "python3",
      "display_name": "Python 3"
    },
    "language_info": {
      "name": "python"
    },
    "accelerator": "GPU"
  },
  "cells": [
    {
      "cell_type": "markdown",
      "metadata": {
        "id": "KBnxpKnUOGEu"
      },
      "source": [
        "***Problem Statement***\n",
        "The dataset is similar to MNIST, but includes images of certain clothing and accessory. The objective is to classify images into specific classes using single layer perceptron and multilayer perceptron."
      ]
    },
    {
      "cell_type": "markdown",
      "metadata": {
        "id": "5bEM1FL8O1kR"
      },
      "source": [
        "**Importing the necessary libraries**"
      ]
    },
    {
      "cell_type": "code",
      "metadata": {
        "id": "D2-38uJZN_GJ"
      },
      "source": [
        "import tensorflow as tf\n",
        "from tensorflow import keras\n",
        "from keras.layers import Dense,Flatten,Dropout\n",
        "import matplotlib.pyplot as plt\n"
      ],
      "execution_count": 1,
      "outputs": []
    },
    {
      "cell_type": "markdown",
      "metadata": {
        "id": "-OlZ5iIwPHa-"
      },
      "source": [
        "**Preparing the dataset**"
      ]
    },
    {
      "cell_type": "code",
      "metadata": {
        "id": "-f4VV17IODtJ",
        "colab": {
          "base_uri": "https://localhost:8080/"
        },
        "outputId": "9c296244-3a72-42e5-acb1-6f1ffc6bcbfc"
      },
      "source": [
        "(x_train,y_train),(x_test,y_test)=keras.datasets.fashion_mnist.load_data()"
      ],
      "execution_count": 2,
      "outputs": [
        {
          "output_type": "stream",
          "name": "stdout",
          "text": [
            "Downloading data from https://storage.googleapis.com/tensorflow/tf-keras-datasets/train-labels-idx1-ubyte.gz\n",
            "32768/29515 [=================================] - 0s 0us/step\n",
            "40960/29515 [=========================================] - 0s 0us/step\n",
            "Downloading data from https://storage.googleapis.com/tensorflow/tf-keras-datasets/train-images-idx3-ubyte.gz\n",
            "26427392/26421880 [==============================] - 0s 0us/step\n",
            "26435584/26421880 [==============================] - 0s 0us/step\n",
            "Downloading data from https://storage.googleapis.com/tensorflow/tf-keras-datasets/t10k-labels-idx1-ubyte.gz\n",
            "16384/5148 [===============================================================================================] - 0s 0us/step\n",
            "Downloading data from https://storage.googleapis.com/tensorflow/tf-keras-datasets/t10k-images-idx3-ubyte.gz\n",
            "4423680/4422102 [==============================] - 0s 0us/step\n",
            "4431872/4422102 [==============================] - 0s 0us/step\n"
          ]
        }
      ]
    },
    {
      "cell_type": "code",
      "metadata": {
        "colab": {
          "base_uri": "https://localhost:8080/"
        },
        "id": "gzzv7e0rPWVv",
        "outputId": "fc81a843-c707-4f12-ca74-598d9dbda2b3"
      },
      "source": [
        "x_train.shape,x_test.shape"
      ],
      "execution_count": 3,
      "outputs": [
        {
          "output_type": "execute_result",
          "data": {
            "text/plain": [
              "((60000, 28, 28), (10000, 28, 28))"
            ]
          },
          "metadata": {},
          "execution_count": 3
        }
      ]
    },
    {
      "cell_type": "code",
      "metadata": {
        "colab": {
          "base_uri": "https://localhost:8080/",
          "height": 292
        },
        "id": "0PvfFDA1uENY",
        "outputId": "c0b16c91-7189-4256-d7d8-de399e7a3c8a"
      },
      "source": [
        "plt.matshow(x_train[0])"
      ],
      "execution_count": 4,
      "outputs": [
        {
          "output_type": "execute_result",
          "data": {
            "text/plain": [
              "<matplotlib.image.AxesImage at 0x7fc7792e91d0>"
            ]
          },
          "metadata": {},
          "execution_count": 4
        },
        {
          "output_type": "display_data",
          "data": {
            "image/png": "[encoded data removed]",
            "text/plain": [
              "<Figure size 288x288 with 1 Axes>"
            ]
          },
          "metadata": {
            "needs_background": "light"
          }
        }
      ]
    },
    {
      "cell_type": "code",
      "metadata": {
        "colab": {
          "base_uri": "https://localhost:8080/"
        },
        "id": "2SEUt0lXPfjg",
        "outputId": "bd305adc-4426-487f-e959-48f57a9db894"
      },
      "source": [
        "y_train.shape,y_test.shape"
      ],
      "execution_count": null,
      "outputs": [
        {
          "output_type": "execute_result",
          "data": {
            "text/plain": [
              "((60000,), (10000,))"
            ]
          },
          "metadata": {},
          "execution_count": 4
        }
      ]
    },
    {
      "cell_type": "markdown",
      "metadata": {
        "id": "6iHjHpI-Pmyx"
      },
      "source": [
        "**Pre-processing the data**"
      ]
    },
    {
      "cell_type": "code",
      "metadata": {
        "id": "l2-O9_tVPlkL"
      },
      "source": [
        "x_train=x_train.reshape(x_train.shape[0],x_train.shape[1]*x_train.shape[2]).astype('float32')\n",
        "x_train/=255\n",
        "x_test=x_test.reshape(x_test.shape[0],x_test.shape[1]*x_test.shape[2]).astype('float32')\n",
        "x_test/=255"
      ],
      "execution_count": null,
      "outputs": []
    },
    {
      "cell_type": "code",
      "metadata": {
        "colab": {
          "base_uri": "https://localhost:8080/"
        },
        "id": "ibgBQ3qVQl7b",
        "outputId": "fa9377aa-53fc-4fde-f940-a8e4a5da6a2a"
      },
      "source": [
        "x_train.shape,x_test.shape"
      ],
      "execution_count": null,
      "outputs": [
        {
          "output_type": "execute_result",
          "data": {
            "text/plain": [
              "((60000, 784), (10000, 784))"
            ]
          },
          "metadata": {},
          "execution_count": 6
        }
      ]
    },
    {
      "cell_type": "code",
      "metadata": {
        "id": "VVNglTJsTrg3"
      },
      "source": [
        "#x_train[0]"
      ],
      "execution_count": null,
      "outputs": []
    },
    {
      "cell_type": "code",
      "metadata": {
        "id": "r9IpxFcRRKZ-"
      },
      "source": [
        "y_train = keras.utils.to_categorical(y_train, 10) \n",
        "y_test = keras.utils.to_categorical(y_test, 10)\n"
      ],
      "execution_count": null,
      "outputs": []
    },
    {
      "cell_type": "markdown",
      "metadata": {
        "id": "n-DYa7rPR0la"
      },
      "source": [
        "**Develop a Single Layer Perceptron model**"
      ]
    },
    {
      "cell_type": "code",
      "metadata": {
        "id": "x2a8BHXqR_NN"
      },
      "source": [
        "#Building the model\n",
        "model1=keras.Sequential()\n",
        "model1.add(Dense(10,input_shape=(784,),activation='softmax'))"
      ],
      "execution_count": null,
      "outputs": []
    },
    {
      "cell_type": "code",
      "metadata": {
        "id": "B4KMpH9OR_cJ"
      },
      "source": [
        "#compiling the model\n",
        "model1.compile(optimizer='adam',loss='categorical_crossentropy',metrics=['accuracy'])"
      ],
      "execution_count": null,
      "outputs": []
    },
    {
      "cell_type": "code",
      "metadata": {
        "colab": {
          "base_uri": "https://localhost:8080/"
        },
        "id": "vYfRi2RsR_iy",
        "outputId": "1e1b4602-9741-44ca-f589-e3f699372ae1"
      },
      "source": [
        "#Fitting the model\n",
        "history1=model1.fit(x_train,y_train,epochs=10,validation_split=0.2)"
      ],
      "execution_count": null,
      "outputs": [
        {
          "output_type": "stream",
          "name": "stdout",
          "text": [
            "Epoch 1/10\n",
            "1500/1500 [==============================] - 5s 3ms/step - loss: 0.6192 - accuracy: 0.7935 - val_loss: 0.4980 - val_accuracy: 0.8299\n",
            "Epoch 2/10\n",
            "1500/1500 [==============================] - 4s 3ms/step - loss: 0.4720 - accuracy: 0.8395 - val_loss: 0.4571 - val_accuracy: 0.8452\n",
            "Epoch 3/10\n",
            "1500/1500 [==============================] - 4s 3ms/step - loss: 0.4437 - accuracy: 0.8464 - val_loss: 0.4439 - val_accuracy: 0.8465\n",
            "Epoch 4/10\n",
            "1500/1500 [==============================] - 4s 3ms/step - loss: 0.4292 - accuracy: 0.8527 - val_loss: 0.4426 - val_accuracy: 0.8463\n",
            "Epoch 5/10\n",
            "1500/1500 [==============================] - 4s 3ms/step - loss: 0.4172 - accuracy: 0.8552 - val_loss: 0.4319 - val_accuracy: 0.8537\n",
            "Epoch 6/10\n",
            "1500/1500 [==============================] - 4s 3ms/step - loss: 0.4110 - accuracy: 0.8587 - val_loss: 0.4345 - val_accuracy: 0.8465\n",
            "Epoch 7/10\n",
            "1500/1500 [==============================] - 4s 3ms/step - loss: 0.4046 - accuracy: 0.8592 - val_loss: 0.4218 - val_accuracy: 0.8568\n",
            "Epoch 8/10\n",
            "1500/1500 [==============================] - 4s 3ms/step - loss: 0.4000 - accuracy: 0.8606 - val_loss: 0.4218 - val_accuracy: 0.8535\n",
            "Epoch 9/10\n",
            "1500/1500 [==============================] - 4s 3ms/step - loss: 0.3965 - accuracy: 0.8631 - val_loss: 0.4292 - val_accuracy: 0.8548\n",
            "Epoch 10/10\n",
            "1500/1500 [==============================] - 4s 3ms/step - loss: 0.3935 - accuracy: 0.8628 - val_loss: 0.4169 - val_accuracy: 0.8564\n"
          ]
        }
      ]
    },
    {
      "cell_type": "markdown",
      "metadata": {
        "id": "BKBjKdWuUhhf"
      },
      "source": [
        "**Plotting the curves after training**"
      ]
    },
    {
      "cell_type": "code",
      "metadata": {
        "colab": {
          "base_uri": "https://localhost:8080/",
          "height": 295
        },
        "id": "Mnmvnqt-R_pM",
        "outputId": "d51bc504-9a0f-47ad-d660-302314e1a23f"
      },
      "source": [
        "import matplotlib.pyplot as plt\n",
        "plt.plot(history1.history['accuracy'])\n",
        "plt.plot(history1.history['val_accuracy'])\n",
        "plt.title('model accuracy')\n",
        "plt.ylabel('accuracy')\n",
        "plt.xlabel('epoch')\n",
        "plt.legend(['train', 'test'], loc='upper left')\n",
        "plt.show()"
      ],
      "execution_count": null,
      "outputs": [
        {
          "output_type": "display_data",
          "data": {
            "image/png": "[encoded data removed]",
            "text/plain": [
              "<Figure size 432x288 with 1 Axes>"
            ]
          },
          "metadata": {
            "needs_background": "light"
          }
        }
      ]
    },
    {
      "cell_type": "code",
      "metadata": {
        "colab": {
          "base_uri": "https://localhost:8080/",
          "height": 295
        },
        "id": "YNK_GhYKZOeA",
        "outputId": "a87bb0b4-2ea9-4797-910d-6435d92a0310"
      },
      "source": [
        "import matplotlib.pyplot as plt\n",
        "plt.plot(history1.history['loss'])\n",
        "plt.plot(history1.history['val_loss'])\n",
        "plt.title('model loss')\n",
        "plt.ylabel('loss')\n",
        "plt.xlabel('epoch')\n",
        "plt.legend(['train', 'test'], loc='upper left')\n",
        "plt.show()"
      ],
      "execution_count": null,
      "outputs": [
        {
          "output_type": "display_data",
          "data": {
            "image/png": "[encoded data removed]",
            "text/plain": [
              "<Figure size 432x288 with 1 Axes>"
            ]
          },
          "metadata": {
            "needs_background": "light"
          }
        }
      ]
    },
    {
      "cell_type": "markdown",
      "metadata": {
        "id": "7X9kUY6bZcxX"
      },
      "source": [
        "**Evaluate the model on test data**"
      ]
    },
    {
      "cell_type": "code",
      "metadata": {
        "colab": {
          "base_uri": "https://localhost:8080/"
        },
        "id": "HR4DhgdUUmZO",
        "outputId": "9b49497d-3e47-4ea7-e47c-80f104a457fb"
      },
      "source": [
        "model1.evaluate(x_test,y_test)"
      ],
      "execution_count": null,
      "outputs": [
        {
          "output_type": "stream",
          "name": "stdout",
          "text": [
            "313/313 [==============================] - 1s 3ms/step - loss: 0.4460 - accuracy: 0.8452\n"
          ]
        },
        {
          "output_type": "execute_result",
          "data": {
            "text/plain": [
              "[0.44601142406463623, 0.8452000021934509]"
            ]
          },
          "metadata": {},
          "execution_count": 14
        }
      ]
    },
    {
      "cell_type": "markdown",
      "metadata": {
        "id": "GMOZY-skZtJH"
      },
      "source": [
        "**Analyze the model summary**"
      ]
    },
    {
      "cell_type": "code",
      "metadata": {
        "colab": {
          "base_uri": "https://localhost:8080/"
        },
        "id": "1RHBwG62Umcj",
        "outputId": "4d66fede-bd76-47a0-b1a6-49a60a015850"
      },
      "source": [
        "model1.summary()"
      ],
      "execution_count": null,
      "outputs": [
        {
          "output_type": "stream",
          "name": "stdout",
          "text": [
            "Model: \"sequential\"\n",
            "_________________________________________________________________\n",
            "Layer (type)                 Output Shape              Param #   \n",
            "=================================================================\n",
            "dense (Dense)                (None, 10)                7850      \n",
            "=================================================================\n",
            "Total params: 7,850\n",
            "Trainable params: 7,850\n",
            "Non-trainable params: 0\n",
            "_________________________________________________________________\n"
          ]
        }
      ]
    },
    {
      "cell_type": "code",
      "metadata": {
        "colab": {
          "base_uri": "https://localhost:8080/"
        },
        "id": "SIgXbCFFUmf9",
        "outputId": "3dfeda14-9001-4453-de30-986d1864181b"
      },
      "source": [
        "model1.get_config()"
      ],
      "execution_count": null,
      "outputs": [
        {
          "output_type": "execute_result",
          "data": {
            "text/plain": [
              "{'layers': [{'class_name': 'InputLayer',\n",
              "   'config': {'batch_input_shape': (None, 784),\n",
              "    'dtype': 'float32',\n",
              "    'name': 'dense_input',\n",
              "    'ragged': False,\n",
              "    'sparse': False}},\n",
              "  {'class_name': 'Dense',\n",
              "   'config': {'activation': 'softmax',\n",
              "    'activity_regularizer': None,\n",
              "    'batch_input_shape': (None, 784),\n",
              "    'bias_constraint': None,\n",
              "    'bias_initializer': {'class_name': 'Zeros', 'config': {}},\n",
              "    'bias_regularizer': None,\n",
              "    'dtype': 'float32',\n",
              "    'kernel_constraint': None,\n",
              "    'kernel_initializer': {'class_name': 'GlorotUniform',\n",
              "     'config': {'seed': None}},\n",
              "    'kernel_regularizer': None,\n",
              "    'name': 'dense',\n",
              "    'trainable': True,\n",
              "    'units': 10,\n",
              "    'use_bias': True}}],\n",
              " 'name': 'sequential'}"
            ]
          },
          "metadata": {},
          "execution_count": 16
        }
      ]
    },
    {
      "cell_type": "markdown",
      "metadata": {
        "id": "wc7W6wvZZ_GG"
      },
      "source": [
        "**Add a hidden layer to the model to make it Multilayer Perceptron**"
      ]
    },
    {
      "cell_type": "code",
      "metadata": {
        "id": "-zwmPTojaDj-"
      },
      "source": [
        ""
      ],
      "execution_count": null,
      "outputs": []
    },
    {
      "cell_type": "code",
      "metadata": {
        "colab": {
          "base_uri": "https://localhost:8080/"
        },
        "id": "fBiFKCUnaEVN",
        "outputId": "62a22fc0-1955-41c2-902e-a88dacea176f"
      },
      "source": [
        "#Building the model\n",
        "model2=keras.Sequential()\n",
        "model2.add(Dense(128,input_shape=(784,),activation='relu'))#hidden layer\n",
        "model2.add(Dense(10,activation='softmax'))#output layer\n",
        "\n",
        "\n",
        "#compiling the model\n",
        "model2.compile(optimizer='adam',loss='categorical_crossentropy',metrics=['accuracy'])\n",
        "\n",
        "#Fitting the model\n",
        "history2=model2.fit(x_train,y_train,epochs=10,validation_split=0.2)"
      ],
      "execution_count": null,
      "outputs": [
        {
          "output_type": "stream",
          "name": "stdout",
          "text": [
            "Epoch 1/10\n",
            "1500/1500 [==============================] - 5s 3ms/step - loss: 0.5204 - accuracy: 0.8197 - val_loss: 0.4218 - val_accuracy: 0.8538\n",
            "Epoch 2/10\n",
            "1500/1500 [==============================] - 4s 3ms/step - loss: 0.3868 - accuracy: 0.8611 - val_loss: 0.3956 - val_accuracy: 0.8522\n",
            "Epoch 3/10\n",
            "1500/1500 [==============================] - 4s 3ms/step - loss: 0.3444 - accuracy: 0.8750 - val_loss: 0.3686 - val_accuracy: 0.8711\n",
            "Epoch 4/10\n",
            "1500/1500 [==============================] - 4s 3ms/step - loss: 0.3198 - accuracy: 0.8830 - val_loss: 0.3741 - val_accuracy: 0.8655\n",
            "Epoch 5/10\n",
            "1500/1500 [==============================] - 4s 3ms/step - loss: 0.3016 - accuracy: 0.8895 - val_loss: 0.3625 - val_accuracy: 0.8733\n",
            "Epoch 6/10\n",
            "1500/1500 [==============================] - 4s 3ms/step - loss: 0.2858 - accuracy: 0.8962 - val_loss: 0.3310 - val_accuracy: 0.8799\n",
            "Epoch 7/10\n",
            "1500/1500 [==============================] - 4s 3ms/step - loss: 0.2737 - accuracy: 0.8997 - val_loss: 0.3346 - val_accuracy: 0.8830\n",
            "Epoch 8/10\n",
            "1500/1500 [==============================] - 4s 3ms/step - loss: 0.2598 - accuracy: 0.9040 - val_loss: 0.3346 - val_accuracy: 0.8812\n",
            "Epoch 9/10\n",
            "1500/1500 [==============================] - 4s 3ms/step - loss: 0.2499 - accuracy: 0.9072 - val_loss: 0.3292 - val_accuracy: 0.8839\n",
            "Epoch 10/10\n",
            "1500/1500 [==============================] - 4s 3ms/step - loss: 0.2408 - accuracy: 0.9096 - val_loss: 0.3245 - val_accuracy: 0.8840\n"
          ]
        }
      ]
    },
    {
      "cell_type": "code",
      "metadata": {
        "colab": {
          "base_uri": "https://localhost:8080/"
        },
        "id": "f8jcJ3WpaEjA",
        "outputId": "1f7c9a0e-432d-4a38-d120-9404af76a785"
      },
      "source": [
        "model2.evaluate(x_test,y_test)"
      ],
      "execution_count": null,
      "outputs": [
        {
          "output_type": "stream",
          "name": "stdout",
          "text": [
            "313/313 [==============================] - 1s 3ms/step - loss: 0.3478 - accuracy: 0.8799\n"
          ]
        },
        {
          "output_type": "execute_result",
          "data": {
            "text/plain": [
              "[0.34783482551574707, 0.8798999786376953]"
            ]
          },
          "metadata": {},
          "execution_count": 18
        }
      ]
    },
    {
      "cell_type": "markdown",
      "metadata": {
        "id": "6-GKLy0ddjIZ"
      },
      "source": [
        "**Plotting the curves**"
      ]
    },
    {
      "cell_type": "code",
      "metadata": {
        "colab": {
          "base_uri": "https://localhost:8080/",
          "height": 295
        },
        "id": "Fm2bBEWCcm_z",
        "outputId": "64cc48a3-c599-42ad-a08d-794479964728"
      },
      "source": [
        "import matplotlib.pyplot as plt\n",
        "plt.plot(history2.history['accuracy'])\n",
        "plt.plot(history2.history['val_accuracy'])\n",
        "plt.title('model accuracy')\n",
        "plt.ylabel('accuracy')\n",
        "plt.xlabel('epoch')\n",
        "plt.legend(['train', 'test'], loc='upper left')\n",
        "plt.show()"
      ],
      "execution_count": null,
      "outputs": [
        {
          "output_type": "display_data",
          "data": {
            "image/png": "[encoded data removed]",
            "text/plain": [
              "<Figure size 432x288 with 1 Axes>"
            ]
          },
          "metadata": {
            "needs_background": "light"
          }
        }
      ]
    },
    {
      "cell_type": "code",
      "metadata": {
        "id": "W1WVo0tOcnK8"
      },
      "source": [
        ""
      ],
      "execution_count": null,
      "outputs": []
    },
    {
      "cell_type": "markdown",
      "metadata": {
        "id": "wwj3N-Y_duhu"
      },
      "source": [
        "**Add Dropout to prevent overfitting and check its effect on accuracy**"
      ]
    },
    {
      "cell_type": "code",
      "metadata": {
        "colab": {
          "base_uri": "https://localhost:8080/"
        },
        "id": "tVo0fy1-dqrV",
        "outputId": "d0640bfa-914a-4a21-827a-40a80c562835"
      },
      "source": [
        "#Building the model\n",
        "model3=keras.Sequential()\n",
        "model3.add(Dense(128,input_shape=(784,),activation='relu'))#hidden layer\n",
        "model3.add(Dropout(0.2))\n",
        "model3.add(Dense(10,activation='softmax'))#output layer\n",
        "\n",
        "\n",
        "#compiling the model\n",
        "model3.compile(optimizer='adam',loss='categorical_crossentropy',metrics=['accuracy'])\n",
        "\n",
        "#Fitting the model\n",
        "history3=model3.fit(x_train,y_train,epochs=10,validation_split=0.2)"
      ],
      "execution_count": null,
      "outputs": [
        {
          "output_type": "stream",
          "name": "stdout",
          "text": [
            "Epoch 1/10\n",
            "1500/1500 [==============================] - 5s 3ms/step - loss: 0.5578 - accuracy: 0.8032 - val_loss: 0.4103 - val_accuracy: 0.8545\n",
            "Epoch 2/10\n",
            "1500/1500 [==============================] - 4s 3ms/step - loss: 0.4137 - accuracy: 0.8509 - val_loss: 0.3790 - val_accuracy: 0.8654\n",
            "Epoch 3/10\n",
            "1500/1500 [==============================] - 4s 3ms/step - loss: 0.3757 - accuracy: 0.8635 - val_loss: 0.3521 - val_accuracy: 0.8745\n",
            "Epoch 4/10\n",
            "1500/1500 [==============================] - 5s 3ms/step - loss: 0.3506 - accuracy: 0.8697 - val_loss: 0.3480 - val_accuracy: 0.8772\n",
            "Epoch 5/10\n",
            "1500/1500 [==============================] - 4s 3ms/step - loss: 0.3340 - accuracy: 0.8769 - val_loss: 0.3384 - val_accuracy: 0.8770\n",
            "Epoch 6/10\n",
            "1500/1500 [==============================] - 5s 3ms/step - loss: 0.3202 - accuracy: 0.8810 - val_loss: 0.3312 - val_accuracy: 0.8818\n",
            "Epoch 7/10\n",
            "1500/1500 [==============================] - 5s 3ms/step - loss: 0.3123 - accuracy: 0.8840 - val_loss: 0.3354 - val_accuracy: 0.8793\n",
            "Epoch 8/10\n",
            "1500/1500 [==============================] - 4s 3ms/step - loss: 0.3017 - accuracy: 0.8881 - val_loss: 0.3304 - val_accuracy: 0.8788\n",
            "Epoch 9/10\n",
            "1500/1500 [==============================] - 5s 3ms/step - loss: 0.2947 - accuracy: 0.8903 - val_loss: 0.3175 - val_accuracy: 0.8877\n",
            "Epoch 10/10\n",
            "1500/1500 [==============================] - 5s 3ms/step - loss: 0.2866 - accuracy: 0.8933 - val_loss: 0.3227 - val_accuracy: 0.8867\n"
          ]
        }
      ]
    },
    {
      "cell_type": "code",
      "metadata": {
        "colab": {
          "base_uri": "https://localhost:8080/"
        },
        "id": "zZb4GQhDdqva",
        "outputId": "e6bd3fa4-b653-4340-c08b-2a6925c7c894"
      },
      "source": [
        "model3.evaluate(x_test,y_test)"
      ],
      "execution_count": null,
      "outputs": [
        {
          "output_type": "stream",
          "name": "stdout",
          "text": [
            "313/313 [==============================] - 1s 3ms/step - loss: 0.3463 - accuracy: 0.8785\n"
          ]
        },
        {
          "output_type": "execute_result",
          "data": {
            "text/plain": [
              "[0.3463338017463684, 0.8784999847412109]"
            ]
          },
          "metadata": {},
          "execution_count": 21
        }
      ]
    },
    {
      "cell_type": "code",
      "metadata": {
        "colab": {
          "base_uri": "https://localhost:8080/",
          "height": 295
        },
        "id": "XY5tDbDAdqzX",
        "outputId": "89d7b781-356b-41b5-ab66-04c91ba05e25"
      },
      "source": [
        "import matplotlib.pyplot as plt\n",
        "plt.plot(history3.history['accuracy'])\n",
        "plt.plot(history3.history['val_accuracy'])\n",
        "plt.title('model accuracy')\n",
        "plt.ylabel('accuracy')\n",
        "plt.xlabel('epoch')\n",
        "plt.legend(['train', 'test'], loc='upper left')\n",
        "plt.show()"
      ],
      "execution_count": null,
      "outputs": [
        {
          "output_type": "display_data",
          "data": {
            "image/png": "[encoded data removed]",
            "text/plain": [
              "<Figure size 432x288 with 1 Axes>"
            ]
          },
          "metadata": {
            "needs_background": "light"
          }
        }
      ]
    },
    {
      "cell_type": "markdown",
      "metadata": {
        "id": "o9TwwMVPeSIz"
      },
      "source": [
        "**Increase the number of hidden layer neuron and check its accuracy**"
      ]
    },
    {
      "cell_type": "code",
      "metadata": {
        "colab": {
          "base_uri": "https://localhost:8080/"
        },
        "id": "f8YW22M0dq5k",
        "outputId": "43278078-1970-4cdf-b4c3-a3da48684f5e"
      },
      "source": [
        "#Building the model\n",
        "model4=keras.Sequential()\n",
        "model4.add(Dense(128,input_shape=(784,),activation='relu'))#hidden layer\n",
        "model4.add(Dropout(0.2))\n",
        "model4.add(Dense(64,activation='relu'))\n",
        "model4.add(Dense(10,activation='softmax'))#output layer\n",
        "\n",
        "\n",
        "#compiling the model\n",
        "model4.compile(optimizer='adam',loss='categorical_crossentropy',metrics=['accuracy'])\n",
        "\n",
        "#Fitting the model\n",
        "history4=model4.fit(x_train,y_train,epochs=10,validation_split=0.2)"
      ],
      "execution_count": null,
      "outputs": [
        {
          "output_type": "stream",
          "name": "stdout",
          "text": [
            "Epoch 1/10\n",
            "1500/1500 [==============================] - 6s 3ms/step - loss: 0.5664 - accuracy: 0.7959 - val_loss: 0.4004 - val_accuracy: 0.8577\n",
            "Epoch 2/10\n",
            "1500/1500 [==============================] - 5s 3ms/step - loss: 0.4169 - accuracy: 0.8486 - val_loss: 0.3941 - val_accuracy: 0.8547\n",
            "Epoch 3/10\n",
            "1500/1500 [==============================] - 5s 3ms/step - loss: 0.3812 - accuracy: 0.8592 - val_loss: 0.3522 - val_accuracy: 0.8679\n",
            "Epoch 4/10\n",
            "1500/1500 [==============================] - 5s 3ms/step - loss: 0.3584 - accuracy: 0.8671 - val_loss: 0.3526 - val_accuracy: 0.8729\n",
            "Epoch 5/10\n",
            "1500/1500 [==============================] - 5s 3ms/step - loss: 0.3406 - accuracy: 0.8734 - val_loss: 0.3334 - val_accuracy: 0.8816\n",
            "Epoch 6/10\n",
            "1500/1500 [==============================] - 5s 3ms/step - loss: 0.3266 - accuracy: 0.8789 - val_loss: 0.3541 - val_accuracy: 0.8711\n",
            "Epoch 7/10\n",
            "1500/1500 [==============================] - 5s 3ms/step - loss: 0.3164 - accuracy: 0.8837 - val_loss: 0.3262 - val_accuracy: 0.8835\n",
            "Epoch 8/10\n",
            "1500/1500 [==============================] - 5s 3ms/step - loss: 0.3073 - accuracy: 0.8868 - val_loss: 0.3332 - val_accuracy: 0.8808\n",
            "Epoch 9/10\n",
            "1500/1500 [==============================] - 5s 3ms/step - loss: 0.3001 - accuracy: 0.8879 - val_loss: 0.3200 - val_accuracy: 0.8867\n",
            "Epoch 10/10\n",
            "1500/1500 [==============================] - 5s 3ms/step - loss: 0.2934 - accuracy: 0.8907 - val_loss: 0.3174 - val_accuracy: 0.8854\n"
          ]
        }
      ]
    },
    {
      "cell_type": "markdown",
      "metadata": {
        "id": "zTUm-wiRf7vl"
      },
      "source": [
        "**evaluating the model4**"
      ]
    },
    {
      "cell_type": "code",
      "metadata": {
        "colab": {
          "base_uri": "https://localhost:8080/"
        },
        "id": "UlFYSUAkdq-f",
        "outputId": "b0061f0a-316b-48ed-e480-004c065d0a4a"
      },
      "source": [
        "model4.evaluate(x_test,y_test)"
      ],
      "execution_count": null,
      "outputs": [
        {
          "output_type": "stream",
          "name": "stdout",
          "text": [
            "313/313 [==============================] - 1s 3ms/step - loss: 0.3423 - accuracy: 0.8787\n"
          ]
        },
        {
          "output_type": "execute_result",
          "data": {
            "text/plain": [
              "[0.34234538674354553, 0.8787000179290771]"
            ]
          },
          "metadata": {},
          "execution_count": 24
        }
      ]
    },
    {
      "cell_type": "markdown",
      "metadata": {
        "id": "U5T6QO6xf9h0"
      },
      "source": [
        "**Plotting the accuracy curves of model4**"
      ]
    },
    {
      "cell_type": "code",
      "metadata": {
        "colab": {
          "base_uri": "https://localhost:8080/",
          "height": 295
        },
        "id": "iAIPCftIdrBJ",
        "outputId": "e1acb882-84a7-4d42-c431-fa78bc49c5df"
      },
      "source": [
        "import matplotlib.pyplot as plt\n",
        "plt.plot(history3.history['accuracy'])\n",
        "plt.plot(history3.history['val_accuracy'])\n",
        "plt.title('model accuracy')\n",
        "plt.ylabel('accuracy')\n",
        "plt.xlabel('epoch')\n",
        "plt.legend(['train', 'test'], loc='upper left')\n",
        "plt.show()"
      ],
      "execution_count": null,
      "outputs": [
        {
          "output_type": "display_data",
          "data": {
            "image/png": "[encoded data removed]",
            "text/plain": [
              "<Figure size 432x288 with 1 Axes>"
            ]
          },
          "metadata": {
            "needs_background": "light"
          }
        }
      ]
    },
    {
      "cell_type": "code",
      "metadata": {
        "id": "VilagYChdrDa"
      },
      "source": [
        ""
      ],
      "execution_count": null,
      "outputs": []
    },
    {
      "cell_type": "markdown",
      "metadata": {
        "id": "QzwwmEWVgeZA"
      },
      "source": [
        "**Use different optimizers and check accuracy**\n",
        "\n",
        "\n",
        "*   Rmsprop\n",
        "*   Stochastic Gradient Descent\n",
        "\n"
      ]
    },
    {
      "cell_type": "code",
      "metadata": {
        "id": "xJ2xjwRShND8"
      },
      "source": [
        ""
      ],
      "execution_count": null,
      "outputs": []
    },
    {
      "cell_type": "markdown",
      "metadata": {
        "id": "CmWG0V17hQZ4"
      },
      "source": [
        "## SGD"
      ]
    },
    {
      "cell_type": "code",
      "metadata": {
        "colab": {
          "base_uri": "https://localhost:8080/"
        },
        "id": "bwDAoVS3drFi",
        "outputId": "f117bc33-f60e-425e-fb4b-3adfbb7d5198"
      },
      "source": [
        "#Building the model\n",
        "model5=keras.Sequential()\n",
        "model5.add(Dense(128,input_shape=(784,),activation='relu'))#hidden layer\n",
        "model5.add(Dropout(0.2))\n",
        "model5.add(Dense(64,activation='relu'))\n",
        "model5.add(Dense(10,activation='softmax'))#output layer\n",
        "\n",
        "\n",
        "#compiling the model\n",
        "model5.compile(optimizer='sgd',loss='categorical_crossentropy',metrics=['accuracy'])\n",
        "\n",
        "#Fitting the model\n",
        "history5=model5.fit(x_train,y_train,epochs=10,validation_split=0.2)"
      ],
      "execution_count": null,
      "outputs": [
        {
          "output_type": "stream",
          "name": "stdout",
          "text": [
            "Epoch 1/10\n",
            "1500/1500 [==============================] - 5s 3ms/step - loss: 0.8808 - accuracy: 0.7034 - val_loss: 0.5608 - val_accuracy: 0.8131\n",
            "Epoch 2/10\n",
            "1500/1500 [==============================] - 5s 3ms/step - loss: 0.5618 - accuracy: 0.8073 - val_loss: 0.4831 - val_accuracy: 0.8317\n",
            "Epoch 3/10\n",
            "1500/1500 [==============================] - 5s 3ms/step - loss: 0.4971 - accuracy: 0.8259 - val_loss: 0.4521 - val_accuracy: 0.8378\n",
            "Epoch 4/10\n",
            "1500/1500 [==============================] - 5s 3ms/step - loss: 0.4612 - accuracy: 0.8395 - val_loss: 0.4325 - val_accuracy: 0.8474\n",
            "Epoch 5/10\n",
            "1500/1500 [==============================] - 5s 3ms/step - loss: 0.4369 - accuracy: 0.8464 - val_loss: 0.4146 - val_accuracy: 0.8536\n",
            "Epoch 6/10\n",
            "1500/1500 [==============================] - 5s 3ms/step - loss: 0.4186 - accuracy: 0.8520 - val_loss: 0.3960 - val_accuracy: 0.8570\n",
            "Epoch 7/10\n",
            "1500/1500 [==============================] - 5s 3ms/step - loss: 0.4034 - accuracy: 0.8551 - val_loss: 0.3947 - val_accuracy: 0.8579\n",
            "Epoch 8/10\n",
            "1500/1500 [==============================] - 5s 3ms/step - loss: 0.3923 - accuracy: 0.8610 - val_loss: 0.3759 - val_accuracy: 0.8668\n",
            "Epoch 9/10\n",
            "1500/1500 [==============================] - 5s 3ms/step - loss: 0.3821 - accuracy: 0.8637 - val_loss: 0.3765 - val_accuracy: 0.8649\n",
            "Epoch 10/10\n",
            "1500/1500 [==============================] - 5s 3ms/step - loss: 0.3714 - accuracy: 0.8668 - val_loss: 0.3631 - val_accuracy: 0.8702\n"
          ]
        }
      ]
    },
    {
      "cell_type": "code",
      "metadata": {
        "colab": {
          "base_uri": "https://localhost:8080/"
        },
        "id": "8osS2DqedrH3",
        "outputId": "28ceed11-c051-4d5b-ddf4-6ae642d54b5d"
      },
      "source": [
        "model5.evaluate(x_test,y_test)"
      ],
      "execution_count": null,
      "outputs": [
        {
          "output_type": "stream",
          "name": "stdout",
          "text": [
            "313/313 [==============================] - 1s 3ms/step - loss: 0.3859 - accuracy: 0.8616\n"
          ]
        },
        {
          "output_type": "execute_result",
          "data": {
            "text/plain": [
              "[0.3858857750892639, 0.8615999817848206]"
            ]
          },
          "metadata": {},
          "execution_count": 27
        }
      ]
    },
    {
      "cell_type": "code",
      "metadata": {
        "colab": {
          "base_uri": "https://localhost:8080/",
          "height": 295
        },
        "id": "IPh9XSNWhIYq",
        "outputId": "eafd75d1-8eb3-4668-ce4e-c252196f1f0f"
      },
      "source": [
        "import matplotlib.pyplot as plt\n",
        "plt.plot(history5.history['accuracy'])\n",
        "plt.plot(history5.history['val_accuracy'])\n",
        "plt.title('model accuracy')\n",
        "plt.ylabel('accuracy')\n",
        "plt.xlabel('epoch')\n",
        "plt.legend(['train', 'test'], loc='upper left')\n",
        "plt.show()"
      ],
      "execution_count": null,
      "outputs": [
        {
          "output_type": "display_data",
          "data": {
            "image/png": "[encoded data removed]",
            "text/plain": [
              "<Figure size 432x288 with 1 Axes>"
            ]
          },
          "metadata": {
            "needs_background": "light"
          }
        }
      ]
    },
    {
      "cell_type": "markdown",
      "metadata": {
        "id": "ZYmP5HA6hUrX"
      },
      "source": [
        "## RMS Prop"
      ]
    },
    {
      "cell_type": "code",
      "metadata": {
        "colab": {
          "base_uri": "https://localhost:8080/"
        },
        "id": "KOfQQ1IhhW5o",
        "outputId": "5227b162-53cb-43c9-cfc9-f21c4057a3d9"
      },
      "source": [
        "#Building the model\n",
        "model6=keras.Sequential()\n",
        "model6.add(Dense(128,input_shape=(784,),activation='relu'))#hidden layer\n",
        "model6.add(Dropout(0.2))\n",
        "model6.add(Dense(64,activation='relu'))\n",
        "model6.add(Dense(10,activation='softmax'))#output layer\n",
        "\n",
        "\n",
        "#compiling the model\n",
        "model6.compile(optimizer='rmsprop',loss='categorical_crossentropy',metrics=['accuracy'])\n",
        "\n",
        "#Fitting the model\n",
        "history6=model6.fit(x_train,y_train,epochs=10,validation_split=0.2)"
      ],
      "execution_count": null,
      "outputs": [
        {
          "output_type": "stream",
          "name": "stdout",
          "text": [
            "Epoch 1/10\n",
            "1500/1500 [==============================] - 6s 4ms/step - loss: 0.5578 - accuracy: 0.7991 - val_loss: 0.4312 - val_accuracy: 0.8421\n",
            "Epoch 2/10\n",
            "1500/1500 [==============================] - 5s 4ms/step - loss: 0.4256 - accuracy: 0.8464 - val_loss: 0.3836 - val_accuracy: 0.8695\n",
            "Epoch 3/10\n",
            "1500/1500 [==============================] - 5s 4ms/step - loss: 0.3955 - accuracy: 0.8594 - val_loss: 0.3775 - val_accuracy: 0.8687\n",
            "Epoch 4/10\n",
            "1500/1500 [==============================] - 5s 4ms/step - loss: 0.3849 - accuracy: 0.8642 - val_loss: 0.3633 - val_accuracy: 0.8773\n",
            "Epoch 5/10\n",
            "1500/1500 [==============================] - 5s 4ms/step - loss: 0.3741 - accuracy: 0.8694 - val_loss: 0.3735 - val_accuracy: 0.8692\n",
            "Epoch 6/10\n",
            "1500/1500 [==============================] - 5s 4ms/step - loss: 0.3723 - accuracy: 0.8714 - val_loss: 0.4197 - val_accuracy: 0.8669\n",
            "Epoch 7/10\n",
            "1500/1500 [==============================] - 5s 4ms/step - loss: 0.3671 - accuracy: 0.8734 - val_loss: 0.3793 - val_accuracy: 0.8780\n",
            "Epoch 8/10\n",
            "1500/1500 [==============================] - 6s 4ms/step - loss: 0.3630 - accuracy: 0.8755 - val_loss: 0.3689 - val_accuracy: 0.8809\n",
            "Epoch 9/10\n",
            "1500/1500 [==============================] - 5s 4ms/step - loss: 0.3625 - accuracy: 0.8764 - val_loss: 0.3867 - val_accuracy: 0.8811\n",
            "Epoch 10/10\n",
            "1500/1500 [==============================] - 6s 4ms/step - loss: 0.3603 - accuracy: 0.8795 - val_loss: 0.3990 - val_accuracy: 0.8709\n"
          ]
        }
      ]
    },
    {
      "cell_type": "code",
      "metadata": {
        "colab": {
          "base_uri": "https://localhost:8080/"
        },
        "id": "l9w06QcChXJb",
        "outputId": "c0057328-774e-4fa5-dec0-b2a46094d2b0"
      },
      "source": [
        "model6.evaluate(x_test,y_test)"
      ],
      "execution_count": null,
      "outputs": [
        {
          "output_type": "stream",
          "name": "stdout",
          "text": [
            "313/313 [==============================] - 1s 3ms/step - loss: 0.4496 - accuracy: 0.8597\n"
          ]
        },
        {
          "output_type": "execute_result",
          "data": {
            "text/plain": [
              "[0.4496222138404846, 0.8597000241279602]"
            ]
          },
          "metadata": {},
          "execution_count": 30
        }
      ]
    },
    {
      "cell_type": "markdown",
      "metadata": {
        "id": "qiv1qhgkhqzS"
      },
      "source": [
        "## **Increase the hidden layers and check its effect on accuracy**\n",
        "\n",
        "\n"
      ]
    },
    {
      "cell_type": "code",
      "metadata": {
        "colab": {
          "base_uri": "https://localhost:8080/"
        },
        "id": "I8HX1FDdhtJ1",
        "outputId": "7350a509-d854-4538-dd90-cf00969fc16c"
      },
      "source": [
        "#Building the model\n",
        "model7=keras.Sequential()\n",
        "model7.add(Dense(128,input_shape=(784,),activation='relu'))#hidden layer\n",
        "model7.add(Dropout(0.2))\n",
        "model7.add(Dense(64,activation='relu'))\n",
        "model7.add(Dropout(0.2))\n",
        "model7.add(Dense(32,activation='relu'))\n",
        "model7.add(Dense(10,activation='softmax'))#output layer\n",
        "\n",
        "\n",
        "#compiling the model\n",
        "model7.compile(optimizer='rmsprop',loss='categorical_crossentropy',metrics=['accuracy'])\n",
        "\n",
        "#Fitting the model\n",
        "history7=model7.fit(x_train,y_train,epochs=10,validation_split=0.2)"
      ],
      "execution_count": null,
      "outputs": [
        {
          "output_type": "stream",
          "name": "stdout",
          "text": [
            "Epoch 1/10\n",
            "1500/1500 [==============================] - 7s 4ms/step - loss: 0.6358 - accuracy: 0.7729 - val_loss: 0.4374 - val_accuracy: 0.8372\n",
            "Epoch 2/10\n",
            "1500/1500 [==============================] - 6s 4ms/step - loss: 0.4603 - accuracy: 0.8378 - val_loss: 0.3881 - val_accuracy: 0.8612\n",
            "Epoch 3/10\n",
            "1500/1500 [==============================] - 6s 4ms/step - loss: 0.4252 - accuracy: 0.8507 - val_loss: 0.3722 - val_accuracy: 0.8672\n",
            "Epoch 4/10\n",
            "1500/1500 [==============================] - 6s 4ms/step - loss: 0.4123 - accuracy: 0.8561 - val_loss: 0.3860 - val_accuracy: 0.8637\n",
            "Epoch 5/10\n",
            "1500/1500 [==============================] - 6s 4ms/step - loss: 0.3986 - accuracy: 0.8614 - val_loss: 0.3743 - val_accuracy: 0.8688\n",
            "Epoch 6/10\n",
            "1500/1500 [==============================] - 6s 4ms/step - loss: 0.3930 - accuracy: 0.8641 - val_loss: 0.3742 - val_accuracy: 0.8698\n",
            "Epoch 7/10\n",
            "1500/1500 [==============================] - 6s 4ms/step - loss: 0.3885 - accuracy: 0.8670 - val_loss: 0.3816 - val_accuracy: 0.8691\n",
            "Epoch 8/10\n",
            "1500/1500 [==============================] - 6s 4ms/step - loss: 0.3889 - accuracy: 0.8695 - val_loss: 0.3685 - val_accuracy: 0.8758\n",
            "Epoch 9/10\n",
            "1500/1500 [==============================] - 6s 4ms/step - loss: 0.3787 - accuracy: 0.8711 - val_loss: 0.4038 - val_accuracy: 0.8698\n",
            "Epoch 10/10\n",
            "1500/1500 [==============================] - 6s 4ms/step - loss: 0.3791 - accuracy: 0.8738 - val_loss: 0.3611 - val_accuracy: 0.8806\n"
          ]
        }
      ]
    },
    {
      "cell_type": "code",
      "metadata": {
        "colab": {
          "base_uri": "https://localhost:8080/"
        },
        "id": "Zdiiq5uwhtYs",
        "outputId": "7693b32c-4a50-4a66-dcb7-155a45421141"
      },
      "source": [
        "model6.evaluate(x_test,y_test)"
      ],
      "execution_count": null,
      "outputs": [
        {
          "output_type": "stream",
          "name": "stdout",
          "text": [
            "313/313 [==============================] - 1s 3ms/step - loss: 0.4496 - accuracy: 0.8597\n"
          ]
        },
        {
          "output_type": "execute_result",
          "data": {
            "text/plain": [
              "[0.4496222138404846, 0.8597000241279602]"
            ]
          },
          "metadata": {},
          "execution_count": 32
        }
      ]
    },
    {
      "cell_type": "markdown",
      "metadata": {
        "id": "jFTOAw6-ko5q"
      },
      "source": [
        "\n",
        "\n",
        "\n",
        "```\n",
        "\n",
        "# **Manipulate the batch_size and epochs and check its effect on accuracy**"
      ]
    },
    {
      "cell_type": "code",
      "metadata": {
        "colab": {
          "base_uri": "https://localhost:8080/"
        },
        "id": "9ow9JrbjhtlL",
        "outputId": "060dde2b-4987-4688-f6df-d254926b39df"
      },
      "source": [
        "#Building the model\n",
        "model8=keras.Sequential()\n",
        "model8.add(Dense(128,input_shape=(784,),activation='relu'))#hidden layer\n",
        "model8.add(Dropout(0.2))\n",
        "model8.add(Dense(64,activation='relu'))\n",
        "model8.add(Dropout(0.2))\n",
        "model8.add(Dense(32,activation='relu'))\n",
        "model8.add(Dense(10,activation='softmax'))#output layer\n",
        "\n",
        "\n",
        "#compiling the model\n",
        "model8.compile(optimizer='adam',loss='categorical_crossentropy',metrics=['accuracy'])\n",
        "\n",
        "#Fitting the model\n",
        "history8=model8.fit(x_train,y_train,epochs=15,batch_size=64,validation_split=0.2)"
      ],
      "execution_count": null,
      "outputs": [
        {
          "output_type": "stream",
          "name": "stdout",
          "text": [
            "Epoch 1/15\n",
            "750/750 [==============================] - 4s 4ms/step - loss: 0.6686 - accuracy: 0.7611 - val_loss: 0.4310 - val_accuracy: 0.8472\n",
            "Epoch 2/15\n",
            "750/750 [==============================] - 3s 4ms/step - loss: 0.4532 - accuracy: 0.8373 - val_loss: 0.3945 - val_accuracy: 0.8593\n",
            "Epoch 3/15\n",
            "750/750 [==============================] - 3s 4ms/step - loss: 0.4089 - accuracy: 0.8527 - val_loss: 0.3764 - val_accuracy: 0.8652\n",
            "Epoch 4/15\n",
            "750/750 [==============================] - 3s 4ms/step - loss: 0.3819 - accuracy: 0.8616 - val_loss: 0.3594 - val_accuracy: 0.8732\n",
            "Epoch 5/15\n",
            "750/750 [==============================] - 3s 4ms/step - loss: 0.3665 - accuracy: 0.8669 - val_loss: 0.3592 - val_accuracy: 0.8702\n",
            "Epoch 6/15\n",
            "750/750 [==============================] - 3s 4ms/step - loss: 0.3563 - accuracy: 0.8699 - val_loss: 0.3535 - val_accuracy: 0.8726\n",
            "Epoch 7/15\n",
            "750/750 [==============================] - 3s 4ms/step - loss: 0.3468 - accuracy: 0.8718 - val_loss: 0.3303 - val_accuracy: 0.8812\n",
            "Epoch 8/15\n",
            "750/750 [==============================] - 3s 4ms/step - loss: 0.3314 - accuracy: 0.8795 - val_loss: 0.3417 - val_accuracy: 0.8792\n",
            "Epoch 9/15\n",
            "750/750 [==============================] - 3s 4ms/step - loss: 0.3256 - accuracy: 0.8808 - val_loss: 0.3313 - val_accuracy: 0.8805\n",
            "Epoch 10/15\n",
            "750/750 [==============================] - 3s 4ms/step - loss: 0.3160 - accuracy: 0.8840 - val_loss: 0.3370 - val_accuracy: 0.8806\n",
            "Epoch 11/15\n",
            "750/750 [==============================] - 3s 4ms/step - loss: 0.3109 - accuracy: 0.8853 - val_loss: 0.3203 - val_accuracy: 0.8837\n",
            "Epoch 12/15\n",
            "750/750 [==============================] - 3s 4ms/step - loss: 0.3019 - accuracy: 0.8873 - val_loss: 0.3192 - val_accuracy: 0.8854\n",
            "Epoch 13/15\n",
            "750/750 [==============================] - 3s 4ms/step - loss: 0.2992 - accuracy: 0.8895 - val_loss: 0.3249 - val_accuracy: 0.8860\n",
            "Epoch 14/15\n",
            "750/750 [==============================] - 3s 4ms/step - loss: 0.2916 - accuracy: 0.8916 - val_loss: 0.3173 - val_accuracy: 0.8881\n",
            "Epoch 15/15\n",
            "750/750 [==============================] - 3s 4ms/step - loss: 0.2889 - accuracy: 0.8923 - val_loss: 0.3149 - val_accuracy: 0.8873\n"
          ]
        }
      ]
    },
    {
      "cell_type": "code",
      "metadata": {
        "colab": {
          "base_uri": "https://localhost:8080/"
        },
        "id": "MFD46iSFlCkc",
        "outputId": "ccb5257e-dd1f-4595-a806-a48f50e14b78"
      },
      "source": [
        "model8.evaluate(x_test,y_test)"
      ],
      "execution_count": null,
      "outputs": [
        {
          "output_type": "stream",
          "name": "stdout",
          "text": [
            "313/313 [==============================] - 1s 3ms/step - loss: 0.3380 - accuracy: 0.8779\n"
          ]
        },
        {
          "output_type": "execute_result",
          "data": {
            "text/plain": [
              "[0.3380453586578369, 0.8779000043869019]"
            ]
          },
          "metadata": {},
          "execution_count": 34
        }
      ]
    },
    {
      "cell_type": "code",
      "metadata": {
        "colab": {
          "base_uri": "https://localhost:8080/",
          "height": 295
        },
        "id": "E8VkWfkvlnCQ",
        "outputId": "8a337491-8209-44aa-eb72-968e3a5f47f3"
      },
      "source": [
        "import matplotlib.pyplot as plt\n",
        "plt.plot(history8.history['accuracy'])\n",
        "plt.plot(history8.history['val_accuracy'])\n",
        "plt.title('model accuracy')\n",
        "plt.ylabel('accuracy')\n",
        "plt.xlabel('epoch')\n",
        "plt.legend(['train', 'test'], loc='upper left')\n",
        "plt.show()"
      ],
      "execution_count": null,
      "outputs": [
        {
          "output_type": "display_data",
          "data": {
            "image/png": "[encoded data removed]",
            "text/plain": [
              "<Figure size 432x288 with 1 Axes>"
            ]
          },
          "metadata": {
            "needs_background": "light"
          }
        }
      ]
    },
    {
      "cell_type": "code",
      "metadata": {
        "id": "OWYVfgn_hXMp"
      },
      "source": [
        ""
      ],
      "execution_count": null,
      "outputs": []
    },
    {
      "cell_type": "code",
      "metadata": {
        "id": "K7cd8qzNhXP7"
      },
      "source": [
        ""
      ],
      "execution_count": null,
      "outputs": []
    },
    {
      "cell_type": "markdown",
      "metadata": {
        "id": "bg1X_WFClGa0"
      },
      "source": [
        "**What parameters should be chosen to classify the images into various categories?**\n",
        "\n",
        "\n",
        "\n",
        "*   Number of hidden layers\n",
        "*   Number of units in hidden layers\n",
        "*   activation function in hidden layer\n",
        "*   activation function in output layer\n",
        "*   epochs\n",
        "*   optimizer\n",
        "*   batch_size\n",
        "\n",
        "\n",
        "\n",
        "\n"
      ]
    }
  ]
}