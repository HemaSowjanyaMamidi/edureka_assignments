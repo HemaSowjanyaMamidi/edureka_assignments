{
  "nbformat": 4,
  "nbformat_minor": 0,
  "metadata": {
    "colab": {
      "name": "Assignment-2_file3.ipynb",
      "provenance": [],
      "collapsed_sections": []
    },
    "kernelspec": {
      "name": "python3",
      "display_name": "Python 3"
    },
    "language_info": {
      "name": "python"
    }
  },
  "cells": [
    {
      "cell_type": "markdown",
      "metadata": {
        "id": "kqBLoDrn_mmd"
      },
      "source": [
        "####***Prepare a detailed python notebook (similar tothis one) using Convolutional Neural Network for classifying the images from Fer.csv with the best accuracy***"
      ]
    },
    {
      "cell_type": "markdown",
      "metadata": {
        "id": "Md-07cAN_eyp"
      },
      "source": [
        "## ***Import the libraries***"
      ]
    },
    {
      "cell_type": "code",
      "metadata": {
        "id": "3p1PdCPEyIbz"
      },
      "source": [
        "import tensorflow as tf\n",
        "from tensorflow import keras\n",
        "from keras.layers import Conv2D,Dropout, BatchNormalization, MaxPool2D, Flatten,Dense\n",
        "from sklearn.model_selection import train_test_split\n",
        "import pandas as pd\n",
        "import numpy as np\n",
        "from keras.callbacks import EarlyStopping, ReduceLROnPlateau,LearningRateScheduler\n",
        "import matplotlib.pyplot as plt"
      ],
      "execution_count": null,
      "outputs": []
    },
    {
      "cell_type": "code",
      "metadata": {
        "id": "Qef0pUPhyUdZ",
        "colab": {
          "base_uri": "https://localhost:8080/"
        },
        "outputId": "000b66fa-3ffa-4968-e1d6-06844bed4dd4"
      },
      "source": [
        "%cd /content/drive/MyDrive/"
      ],
      "execution_count": null,
      "outputs": [
        {
          "output_type": "stream",
          "name": "stdout",
          "text": [
            "/content/drive/MyDrive\n"
          ]
        }
      ]
    },
    {
      "cell_type": "markdown",
      "metadata": {
        "id": "otwIdNxY_3it"
      },
      "source": [
        "### **Prepare the dataset**"
      ]
    },
    {
      "cell_type": "code",
      "metadata": {
        "id": "-hgk1Na2yUus"
      },
      "source": [
        "#!unzip fer2013.csv.zip"
      ],
      "execution_count": null,
      "outputs": []
    },
    {
      "cell_type": "code",
      "metadata": {
        "id": "f25MAPDP_VoE"
      },
      "source": [
        "df=pd.read_csv('fer2013.csv')"
      ],
      "execution_count": null,
      "outputs": []
    },
    {
      "cell_type": "code",
      "metadata": {
        "colab": {
          "base_uri": "https://localhost:8080/",
          "height": 204
        },
        "id": "XZXjfw2I_VxC",
        "outputId": "8f2b9e0d-d27b-459d-d8d3-150baa3f6554"
      },
      "source": [
        "df.head()"
      ],
      "execution_count": null,
      "outputs": [
        {
          "output_type": "execute_result",
          "data": {
            "text/html": [
              "<div>\n",
              "<style scoped>\n",
              "    .dataframe tbody tr th:only-of-type {\n",
              "        vertical-align: middle;\n",
              "    }\n",
              "\n",
              "    .dataframe tbody tr th {\n",
              "        vertical-align: top;\n",
              "    }\n",
              "\n",
              "    .dataframe thead th {\n",
              "        text-align: right;\n",
              "    }\n",
              "</style>\n",
              "<table border=\"1\" class=\"dataframe\">\n",
              "  <thead>\n",
              "    <tr style=\"text-align: right;\">\n",
              "      <th></th>\n",
              "      <th>emotion</th>\n",
              "      <th>pixels</th>\n",
              "      <th>Usage</th>\n",
              "    </tr>\n",
              "  </thead>\n",
              "  <tbody>\n",
              "    <tr>\n",
              "      <th>0</th>\n",
              "      <td>0</td>\n",
              "      <td>70 80 82 72 58 58 60 63 54 58 60 48 89 115 121...</td>\n",
              "      <td>Training</td>\n",
              "    </tr>\n",
              "    <tr>\n",
              "      <th>1</th>\n",
              "      <td>0</td>\n",
              "      <td>151 150 147 155 148 133 111 140 170 174 182 15...</td>\n",
              "      <td>Training</td>\n",
              "    </tr>\n",
              "    <tr>\n",
              "      <th>2</th>\n",
              "      <td>2</td>\n",
              "      <td>231 212 156 164 174 138 161 173 182 200 106 38...</td>\n",
              "      <td>Training</td>\n",
              "    </tr>\n",
              "    <tr>\n",
              "      <th>3</th>\n",
              "      <td>4</td>\n",
              "      <td>24 32 36 30 32 23 19 20 30 41 21 22 32 34 21 1...</td>\n",
              "      <td>Training</td>\n",
              "    </tr>\n",
              "    <tr>\n",
              "      <th>4</th>\n",
              "      <td>6</td>\n",
              "      <td>4 0 0 0 0 0 0 0 0 0 0 0 3 15 23 28 48 50 58 84...</td>\n",
              "      <td>Training</td>\n",
              "    </tr>\n",
              "  </tbody>\n",
              "</table>\n",
              "</div>"
            ],
            "text/plain": [
              "   emotion                                             pixels     Usage\n",
              "0        0  70 80 82 72 58 58 60 63 54 58 60 48 89 115 121...  Training\n",
              "1        0  151 150 147 155 148 133 111 140 170 174 182 15...  Training\n",
              "2        2  231 212 156 164 174 138 161 173 182 200 106 38...  Training\n",
              "3        4  24 32 36 30 32 23 19 20 30 41 21 22 32 34 21 1...  Training\n",
              "4        6  4 0 0 0 0 0 0 0 0 0 0 0 3 15 23 28 48 50 58 84...  Training"
            ]
          },
          "metadata": {},
          "execution_count": 5
        }
      ]
    },
    {
      "cell_type": "code",
      "metadata": {
        "id": "uK48Fo3tDSef"
      },
      "source": [
        "## target variable/ Dependent variable\n",
        "y=df.iloc[:,0].values"
      ],
      "execution_count": null,
      "outputs": []
    },
    {
      "cell_type": "markdown",
      "metadata": {
        "id": "bpfzTlI9Dun2"
      },
      "source": [
        "### **Determing number of emotions(7 emotions in the dataset)**"
      ]
    },
    {
      "cell_type": "code",
      "metadata": {
        "colab": {
          "base_uri": "https://localhost:8080/"
        },
        "id": "NK-m_xSPDljq",
        "outputId": "23d6651d-7490-484b-a9ae-cd8f9c7f9b17"
      },
      "source": [
        "num_of_classes=len(set(y))\n",
        "num_of_classes"
      ],
      "execution_count": null,
      "outputs": [
        {
          "output_type": "execute_result",
          "data": {
            "text/plain": [
              "7"
            ]
          },
          "metadata": {},
          "execution_count": 7
        }
      ]
    },
    {
      "cell_type": "code",
      "metadata": {
        "id": "yEpBkdEcDSiO"
      },
      "source": [
        "## Independent variable\n",
        "x=df.iloc[:,1].values"
      ],
      "execution_count": null,
      "outputs": []
    },
    {
      "cell_type": "code",
      "metadata": {
        "colab": {
          "base_uri": "https://localhost:8080/"
        },
        "id": "6ngxhHO8IV6A",
        "outputId": "f704355c-dbf0-41ce-a4f3-b020b18658e2"
      },
      "source": [
        "x.shape"
      ],
      "execution_count": null,
      "outputs": [
        {
          "output_type": "execute_result",
          "data": {
            "text/plain": [
              "(35887,)"
            ]
          },
          "metadata": {},
          "execution_count": 9
        }
      ]
    },
    {
      "cell_type": "code",
      "metadata": {
        "id": "ef5FvIIvHG4O"
      },
      "source": [
        "new_x=[]\n",
        "for i in x:\n",
        "  new_x.append(i.split(\" \"))"
      ],
      "execution_count": null,
      "outputs": []
    },
    {
      "cell_type": "code",
      "metadata": {
        "id": "YeE4_QmxIRvQ"
      },
      "source": [
        "x=np.array(new_x,'float32')"
      ],
      "execution_count": null,
      "outputs": []
    },
    {
      "cell_type": "code",
      "metadata": {
        "colab": {
          "base_uri": "https://localhost:8080/"
        },
        "id": "L_OT-YOsIijy",
        "outputId": "ca7f930d-c1a3-49b3-95a8-6268cba12c86"
      },
      "source": [
        "x.shape"
      ],
      "execution_count": null,
      "outputs": [
        {
          "output_type": "execute_result",
          "data": {
            "text/plain": [
              "(35887, 2304)"
            ]
          },
          "metadata": {},
          "execution_count": 12
        }
      ]
    },
    {
      "cell_type": "code",
      "metadata": {
        "id": "Evpeb25mI9fF"
      },
      "source": [
        "y=y.astype('float32')"
      ],
      "execution_count": null,
      "outputs": []
    },
    {
      "cell_type": "code",
      "metadata": {
        "colab": {
          "base_uri": "https://localhost:8080/"
        },
        "id": "6h-ltHAGJBYg",
        "outputId": "4c4fdac7-5317-43cf-81ce-c7116a41d9de"
      },
      "source": [
        "y"
      ],
      "execution_count": null,
      "outputs": [
        {
          "output_type": "execute_result",
          "data": {
            "text/plain": [
              "array([0., 0., 2., ..., 0., 3., 2.], dtype=float32)"
            ]
          },
          "metadata": {},
          "execution_count": 14
        }
      ]
    },
    {
      "cell_type": "code",
      "metadata": {
        "colab": {
          "base_uri": "https://localhost:8080/"
        },
        "id": "kfjlNHFUHQki",
        "outputId": "c8897da3-f2e1-4c82-8998-5f2c40908e38"
      },
      "source": [
        "x"
      ],
      "execution_count": null,
      "outputs": [
        {
          "output_type": "execute_result",
          "data": {
            "text/plain": [
              "array([[ 70.,  80.,  82., ..., 106., 109.,  82.],\n",
              "       [151., 150., 147., ..., 193., 183., 184.],\n",
              "       [231., 212., 156., ...,  88., 110., 152.],\n",
              "       ...,\n",
              "       [ 17.,  17.,  16., ..., 154., 133., 113.],\n",
              "       [ 30.,  28.,  28., ...,  35.,  30.,  28.],\n",
              "       [ 19.,  13.,  14., ..., 189., 199., 201.]], dtype=float32)"
            ]
          },
          "metadata": {},
          "execution_count": 15
        }
      ]
    },
    {
      "cell_type": "code",
      "metadata": {
        "colab": {
          "base_uri": "https://localhost:8080/"
        },
        "id": "EdJww7qQ-lny",
        "outputId": "c54d6213-6196-485a-fd23-06929084b894"
      },
      "source": [
        "x[0]"
      ],
      "execution_count": null,
      "outputs": [
        {
          "output_type": "execute_result",
          "data": {
            "text/plain": [
              "array([ 70.,  80.,  82., ..., 106., 109.,  82.], dtype=float32)"
            ]
          },
          "metadata": {},
          "execution_count": 16
        }
      ]
    },
    {
      "cell_type": "code",
      "metadata": {
        "id": "JCar2pkx-Fq3"
      },
      "source": [
        ""
      ],
      "execution_count": null,
      "outputs": []
    },
    {
      "cell_type": "markdown",
      "metadata": {
        "id": "dyJu2K4K_9rG"
      },
      "source": [
        "### ***Normalize and Reshape the data***"
      ]
    },
    {
      "cell_type": "code",
      "metadata": {
        "id": "tMXl5Mk1ADXN"
      },
      "source": [
        "x = x.reshape(x.shape[0], 48, 48, 1)"
      ],
      "execution_count": null,
      "outputs": []
    },
    {
      "cell_type": "code",
      "metadata": {
        "colab": {
          "base_uri": "https://localhost:8080/",
          "height": 284
        },
        "id": "Flse3qEu-x-W",
        "outputId": "18f1bdf6-ef53-41f1-c50c-e8909d834e3f"
      },
      "source": [
        "temp=x[0]\n",
        "plt.imshow(np.squeeze(temp))"
      ],
      "execution_count": null,
      "outputs": [
        {
          "output_type": "execute_result",
          "data": {
            "text/plain": [
              "<matplotlib.image.AxesImage at 0x7f15a963fb90>"
            ]
          },
          "metadata": {},
          "execution_count": 18
        },
        {
          "output_type": "display_data",
          "data": {
            "image/png": "[encoded data removed]",
            "text/plain": [
              "<Figure size 432x288 with 1 Axes>"
            ]
          },
          "metadata": {
            "needs_background": "light"
          }
        }
      ]
    },
    {
      "cell_type": "code",
      "metadata": {
        "colab": {
          "base_uri": "https://localhost:8080/"
        },
        "id": "Znb6dGRe_Dg-",
        "outputId": "68b4501c-1d58-4ea5-ac77-e8f5a4658126"
      },
      "source": [
        "y[0]"
      ],
      "execution_count": null,
      "outputs": [
        {
          "output_type": "execute_result",
          "data": {
            "text/plain": [
              "0.0"
            ]
          },
          "metadata": {},
          "execution_count": 19
        }
      ]
    },
    {
      "cell_type": "markdown",
      "metadata": {
        "id": "4qgFQlrQES6c"
      },
      "source": [
        "## **Normalizing the data**"
      ]
    },
    {
      "cell_type": "code",
      "metadata": {
        "id": "gjPlcNgMAC2Q"
      },
      "source": [
        "x=x/255"
      ],
      "execution_count": null,
      "outputs": []
    },
    {
      "cell_type": "code",
      "metadata": {
        "id": "80EtD3Q_ADEK"
      },
      "source": [
        "y=keras.utils.to_categorical(y,num_classes=7)"
      ],
      "execution_count": null,
      "outputs": []
    },
    {
      "cell_type": "code",
      "metadata": {
        "colab": {
          "base_uri": "https://localhost:8080/"
        },
        "id": "yP42DyIfJgzp",
        "outputId": "acbf3e1b-74ff-4065-cde6-3171388a169a"
      },
      "source": [
        "x.shape"
      ],
      "execution_count": null,
      "outputs": [
        {
          "output_type": "execute_result",
          "data": {
            "text/plain": [
              "(35887, 48, 48, 1)"
            ]
          },
          "metadata": {},
          "execution_count": 22
        }
      ]
    },
    {
      "cell_type": "code",
      "metadata": {
        "id": "cS5bEIOB969R"
      },
      "source": [
        ""
      ],
      "execution_count": null,
      "outputs": []
    },
    {
      "cell_type": "code",
      "metadata": {
        "colab": {
          "base_uri": "https://localhost:8080/"
        },
        "id": "iIR4Mq2mJzwk",
        "outputId": "f372ed08-af5f-47fa-eb3d-e2aeafc286aa"
      },
      "source": [
        "x[0]"
      ],
      "execution_count": null,
      "outputs": [
        {
          "output_type": "execute_result",
          "data": {
            "text/plain": [
              "array([[[0.27450982],\n",
              "        [0.3137255 ],\n",
              "        [0.32156864],\n",
              "        ...,\n",
              "        [0.20392157],\n",
              "        [0.16862746],\n",
              "        [0.16078432]],\n",
              "\n",
              "       [[0.25490198],\n",
              "        [0.23921569],\n",
              "        [0.22745098],\n",
              "        ...,\n",
              "        [0.21960784],\n",
              "        [0.20392157],\n",
              "        [0.17254902]],\n",
              "\n",
              "       [[0.19607843],\n",
              "        [0.16862746],\n",
              "        [0.21176471],\n",
              "        ...,\n",
              "        [0.19215687],\n",
              "        [0.21960784],\n",
              "        [0.18431373]],\n",
              "\n",
              "       ...,\n",
              "\n",
              "       [[0.35686275],\n",
              "        [0.25490198],\n",
              "        [0.16470589],\n",
              "        ...,\n",
              "        [0.28235295],\n",
              "        [0.21960784],\n",
              "        [0.16862746]],\n",
              "\n",
              "       [[0.3019608 ],\n",
              "        [0.32156864],\n",
              "        [0.30980393],\n",
              "        ...,\n",
              "        [0.4117647 ],\n",
              "        [0.27450982],\n",
              "        [0.18039216]],\n",
              "\n",
              "       [[0.3019608 ],\n",
              "        [0.28235295],\n",
              "        [0.32941177],\n",
              "        ...,\n",
              "        [0.41568628],\n",
              "        [0.42745098],\n",
              "        [0.32156864]]], dtype=float32)"
            ]
          },
          "metadata": {},
          "execution_count": 23
        }
      ]
    },
    {
      "cell_type": "code",
      "metadata": {
        "colab": {
          "base_uri": "https://localhost:8080/"
        },
        "id": "vSRKCMhUKGd6",
        "outputId": "781f1d13-b886-4f94-ea0b-2faf871dd207"
      },
      "source": [
        "y[0]"
      ],
      "execution_count": null,
      "outputs": [
        {
          "output_type": "execute_result",
          "data": {
            "text/plain": [
              "array([1., 0., 0., 0., 0., 0., 0.], dtype=float32)"
            ]
          },
          "metadata": {},
          "execution_count": 24
        }
      ]
    },
    {
      "cell_type": "markdown",
      "metadata": {
        "id": "OuX7LiuEEfBN"
      },
      "source": [
        "### **Splitting into train and test using the train_test_split method**"
      ]
    },
    {
      "cell_type": "code",
      "metadata": {
        "id": "E3QRrTnbJ2-V"
      },
      "source": [
        "x_train, x_test, y_train, y_test = train_test_split(x, y, test_size=0.1, random_state=42)"
      ],
      "execution_count": null,
      "outputs": []
    },
    {
      "cell_type": "markdown",
      "metadata": {
        "id": "jjB6MArF_WcJ"
      },
      "source": [
        "## ***Building the model***"
      ]
    },
    {
      "cell_type": "code",
      "metadata": {
        "id": "7gur4v-JyVcp"
      },
      "source": [
        "model= keras.Sequential()\n",
        "model.add(Conv2D(64,(5,5),activation='relu',input_shape=(48,48,1)))\n",
        "model.add(Conv2D(64,kernel_size= (5, 5), activation='relu')) \n",
        "model.add(BatchNormalization())\n",
        "model.add(MaxPool2D(2,2))\n",
        "model.add(Conv2D(128,(5,5),activation='relu'))\n",
        "model.add(Conv2D(128,(5,5),activation='relu'))\n",
        "model.add(BatchNormalization())\n",
        "model.add(MaxPool2D(2,2))\n",
        "model.add(Conv2D(256,(3,3),activation='relu'))\n",
        "model.add(Conv2D(256,(3,3),activation='relu'))\n",
        "model.add(BatchNormalization())\n",
        "model.add(MaxPool2D(2,2))\n",
        "model.add(Flatten())\n",
        "model.add(Dense(128,activation='relu'))\n",
        "model.add(Dropout(0.25))\n",
        "model.add(Dense(7,activation='softmax'))"
      ],
      "execution_count": null,
      "outputs": []
    },
    {
      "cell_type": "code",
      "metadata": {
        "id": "R4knR19XyVkD",
        "colab": {
          "base_uri": "https://localhost:8080/"
        },
        "outputId": "a3d298c8-45ed-4a5c-aac9-35a77368dbc5"
      },
      "source": [
        "model.summary()"
      ],
      "execution_count": null,
      "outputs": [
        {
          "output_type": "stream",
          "name": "stdout",
          "text": [
            "Model: \"sequential\"\n",
            "_________________________________________________________________\n",
            "Layer (type)                 Output Shape              Param #   \n",
            "=================================================================\n",
            "conv2d (Conv2D)              (None, 44, 44, 64)        1664      \n",
            "_________________________________________________________________\n",
            "conv2d_1 (Conv2D)            (None, 40, 40, 64)        102464    \n",
            "_________________________________________________________________\n",
            "batch_normalization (BatchNo (None, 40, 40, 64)        256       \n",
            "_________________________________________________________________\n",
            "max_pooling2d (MaxPooling2D) (None, 20, 20, 64)        0         \n",
            "_________________________________________________________________\n",
            "conv2d_2 (Conv2D)            (None, 16, 16, 128)       204928    \n",
            "_________________________________________________________________\n",
            "conv2d_3 (Conv2D)            (None, 12, 12, 128)       409728    \n",
            "_________________________________________________________________\n",
            "batch_normalization_1 (Batch (None, 12, 12, 128)       512       \n",
            "_________________________________________________________________\n",
            "max_pooling2d_1 (MaxPooling2 (None, 6, 6, 128)         0         \n",
            "_________________________________________________________________\n",
            "conv2d_4 (Conv2D)            (None, 4, 4, 256)         295168    \n",
            "_________________________________________________________________\n",
            "conv2d_5 (Conv2D)            (None, 2, 2, 256)         590080    \n",
            "_________________________________________________________________\n",
            "batch_normalization_2 (Batch (None, 2, 2, 256)         1024      \n",
            "_________________________________________________________________\n",
            "max_pooling2d_2 (MaxPooling2 (None, 1, 1, 256)         0         \n",
            "_________________________________________________________________\n",
            "flatten (Flatten)            (None, 256)               0         \n",
            "_________________________________________________________________\n",
            "dense (Dense)                (None, 128)               32896     \n",
            "_________________________________________________________________\n",
            "dropout (Dropout)            (None, 128)               0         \n",
            "_________________________________________________________________\n",
            "dense_1 (Dense)              (None, 7)                 903       \n",
            "=================================================================\n",
            "Total params: 1,639,623\n",
            "Trainable params: 1,638,727\n",
            "Non-trainable params: 896\n",
            "_________________________________________________________________\n"
          ]
        }
      ]
    },
    {
      "cell_type": "code",
      "metadata": {
        "id": "m4EF0qZL-InI"
      },
      "source": [
        "model.compile(optimizer=\"adam\",loss=\"categorical_crossentropy\",metrics=['accuracy'])"
      ],
      "execution_count": null,
      "outputs": []
    },
    {
      "cell_type": "code",
      "metadata": {
        "id": "PoabS_aKPH7O"
      },
      "source": [
        ""
      ],
      "execution_count": null,
      "outputs": []
    },
    {
      "cell_type": "code",
      "metadata": {
        "id": "4wHLadKZPIMp"
      },
      "source": [
        "#early_stop = tf.keras.callbacks.EarlyStopping(monitor='val_loss', patience=3)"
      ],
      "execution_count": null,
      "outputs": []
    },
    {
      "cell_type": "code",
      "metadata": {
        "id": "9HMyHwmeR-50"
      },
      "source": [
        "# import math\n",
        "# initial_learning_rate = 0.001\n",
        "# def scheduler(epoch, lr):\n",
        "#     drop_rate = 0.5\n",
        "#     epochs_drop = 10.0\n",
        "#     return initial_learning_rate * math.pow(drop_rate, math.floor(epoch/epochs_drop))\n",
        "\n",
        "# lr_scheduler = tf.keras.callbacks.LearningRateScheduler(scheduler)"
      ],
      "execution_count": null,
      "outputs": []
    },
    {
      "cell_type": "code",
      "metadata": {
        "id": "NCjhiLcVksuG"
      },
      "source": [
        "#,callbacks=[reduce_lr,early_stop,lr_scheduler]"
      ],
      "execution_count": null,
      "outputs": []
    },
    {
      "cell_type": "code",
      "metadata": {
        "colab": {
          "base_uri": "https://localhost:8080/"
        },
        "id": "NFc7Zl-5-Ivo",
        "outputId": "a799c96b-3fdc-4089-b56d-66a9ff2cb9ef"
      },
      "source": [
        "history=model.fit(x_train,y_train,epochs=20,validation_data=(x_test,y_test))"
      ],
      "execution_count": null,
      "outputs": [
        {
          "output_type": "stream",
          "name": "stdout",
          "text": [
            "Epoch 1/20\n",
            "1010/1010 [==============================] - 43s 35ms/step - loss: 1.7393 - accuracy: 0.3103 - val_loss: 1.7980 - val_accuracy: 0.2889\n",
            "Epoch 2/20\n",
            "1010/1010 [==============================] - 34s 34ms/step - loss: 1.4667 - accuracy: 0.4319 - val_loss: 1.3732 - val_accuracy: 0.4795\n",
            "Epoch 3/20\n",
            "1010/1010 [==============================] - 34s 34ms/step - loss: 1.2993 - accuracy: 0.5035 - val_loss: 1.2946 - val_accuracy: 0.5010\n",
            "Epoch 4/20\n",
            "1010/1010 [==============================] - 34s 34ms/step - loss: 1.1953 - accuracy: 0.5490 - val_loss: 1.1854 - val_accuracy: 0.5517\n",
            "Epoch 5/20\n",
            "1010/1010 [==============================] - 34s 34ms/step - loss: 1.1133 - accuracy: 0.5778 - val_loss: 1.1566 - val_accuracy: 0.5612\n",
            "Epoch 6/20\n",
            "1010/1010 [==============================] - 34s 34ms/step - loss: 1.0205 - accuracy: 0.6149 - val_loss: 1.1728 - val_accuracy: 0.5723\n",
            "Epoch 7/20\n",
            "1010/1010 [==============================] - 34s 34ms/step - loss: 0.9313 - accuracy: 0.6512 - val_loss: 1.3024 - val_accuracy: 0.5294\n",
            "Epoch 8/20\n",
            "1010/1010 [==============================] - 34s 34ms/step - loss: 0.8332 - accuracy: 0.6883 - val_loss: 1.1775 - val_accuracy: 0.5860\n",
            "Epoch 9/20\n",
            "1010/1010 [==============================] - 35s 34ms/step - loss: 0.7168 - accuracy: 0.7324 - val_loss: 1.1708 - val_accuracy: 0.6007\n",
            "Epoch 10/20\n",
            "1010/1010 [==============================] - 34s 34ms/step - loss: 0.5986 - accuracy: 0.7752 - val_loss: 1.3431 - val_accuracy: 0.5896\n",
            "Epoch 11/20\n",
            "1010/1010 [==============================] - 34s 34ms/step - loss: 0.4968 - accuracy: 0.8183 - val_loss: 1.4290 - val_accuracy: 0.5921\n",
            "Epoch 12/20\n",
            "1010/1010 [==============================] - 34s 34ms/step - loss: 0.4166 - accuracy: 0.8487 - val_loss: 1.5645 - val_accuracy: 0.5854\n",
            "Epoch 13/20\n",
            "1010/1010 [==============================] - 34s 34ms/step - loss: 0.3462 - accuracy: 0.8728 - val_loss: 1.6742 - val_accuracy: 0.5979\n",
            "Epoch 14/20\n",
            "1010/1010 [==============================] - 34s 34ms/step - loss: 0.2931 - accuracy: 0.8942 - val_loss: 1.8906 - val_accuracy: 0.5720\n",
            "Epoch 15/20\n",
            "1010/1010 [==============================] - 34s 34ms/step - loss: 0.2435 - accuracy: 0.9114 - val_loss: 2.0000 - val_accuracy: 0.5715\n",
            "Epoch 16/20\n",
            "1010/1010 [==============================] - 34s 34ms/step - loss: 0.2238 - accuracy: 0.9216 - val_loss: 2.0130 - val_accuracy: 0.5977\n",
            "Epoch 17/20\n",
            "1010/1010 [==============================] - 34s 34ms/step - loss: 0.2115 - accuracy: 0.9253 - val_loss: 2.0688 - val_accuracy: 0.5815\n",
            "Epoch 18/20\n",
            "1010/1010 [==============================] - 34s 34ms/step - loss: 0.1805 - accuracy: 0.9386 - val_loss: 2.1708 - val_accuracy: 0.5804\n",
            "Epoch 19/20\n",
            "1010/1010 [==============================] - 34s 34ms/step - loss: 0.1692 - accuracy: 0.9419 - val_loss: 2.1677 - val_accuracy: 0.5957\n",
            "Epoch 20/20\n",
            "1010/1010 [==============================] - 34s 34ms/step - loss: 0.1538 - accuracy: 0.9458 - val_loss: 2.1777 - val_accuracy: 0.5974\n"
          ]
        }
      ]
    },
    {
      "cell_type": "code",
      "metadata": {
        "id": "5tiQot7B-IyR"
      },
      "source": [
        ""
      ],
      "execution_count": null,
      "outputs": []
    },
    {
      "cell_type": "code",
      "metadata": {
        "colab": {
          "base_uri": "https://localhost:8080/",
          "height": 590
        },
        "id": "JyW_XAeJ-I1Q",
        "outputId": "961a0682-29c0-416b-f5ef-bf5ce0706d1e"
      },
      "source": [
        "import matplotlib.pyplot as plt\n",
        "%matplotlib inline\n",
        "\n",
        "print(history.history.keys())\n",
        "\n",
        "plt.plot(history.history['accuracy'])\n",
        "plt.plot(history.history['val_accuracy'])\n",
        "plt.title('model accuracy')\n",
        "plt.ylabel('accuracy')\n",
        "plt.xlabel('epoch')\n",
        "plt.legend(['train', 'test'], loc='upper left')\n",
        "plt.show()\n",
        "\n",
        "plt.plot(history.history['loss'])\n",
        "plt.plot(history.history['val_loss'])\n",
        "plt.title('model loss')\n",
        "plt.ylabel('loss')\n",
        "plt.xlabel('epoch')\n",
        "plt.legend(['train', 'test'], loc='upper left')\n",
        "plt.show()"
      ],
      "execution_count": null,
      "outputs": [
        {
          "output_type": "stream",
          "name": "stdout",
          "text": [
            "dict_keys(['loss', 'accuracy', 'val_loss', 'val_accuracy'])\n"
          ]
        },
        {
          "output_type": "display_data",
          "data": {
            "image/png": "[encoded data removed]",
            "text/plain": [
              "<Figure size 432x288 with 1 Axes>"
            ]
          },
          "metadata": {
            "needs_background": "light"
          }
        },
        {
          "output_type": "display_data",
          "data": {
            "image/png": "[encoded data removed]",
            "text/plain": [
              "<Figure size 432x288 with 1 Axes>"
            ]
          },
          "metadata": {
            "needs_background": "light"
          }
        }
      ]
    },
    {
      "cell_type": "markdown",
      "metadata": {
        "id": "O3HXOYzg2iKd"
      },
      "source": [
        "## ***What parameters should be chosen to classify the images into various categories accurately?***"
      ]
    },
    {
      "cell_type": "markdown",
      "metadata": {
        "id": "1NaYrLuu2iZP"
      },
      "source": [
        "\n",
        "*   Number of Hidden Layers\n",
        "*   Number of Hidden Neurons\n",
        "*   Optimizer\n",
        "*   Learning rate\n",
        "*   Loss Function\n",
        "*   Activation functions\n",
        "*   Epochs\n",
        "*   Batch Size\n",
        "\n",
        "\n",
        "\n",
        "\n",
        "\n",
        "\n",
        "\n"
      ]
    }
  ]
}