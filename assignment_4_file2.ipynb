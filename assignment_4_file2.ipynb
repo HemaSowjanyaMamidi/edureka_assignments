{
  "nbformat": 4,
  "nbformat_minor": 0,
  "metadata": {
    "kernelspec": {
      "language": "python",
      "display_name": "Python 3",
      "name": "python3"
    },
    "language_info": {
      "pygments_lexer": "ipython3",
      "nbconvert_exporter": "python",
      "version": "3.6.4",
      "file_extension": ".py",
      "codemirror_mode": {
        "name": "ipython",
        "version": 3
      },
      "name": "python",
      "mimetype": "text/x-python"
    },
    "colab": {
      "name": "assignment-4_file2.ipynb",
      "provenance": [],
      "collapsed_sections": []
    }
  },
  "cells": [
    {
      "cell_type": "markdown",
      "metadata": {
        "id": "lgfLeEdFkEqp"
      },
      "source": [
        "## Problem Statement\n",
        "* Try improving the model and re-code the program from scratch without looking too much at this source code\n",
        "* Write up a summary explaining how your program works. \n",
        "(Emotion Detection Using Tensorflow and Fer2013 dataset)"
      ]
    },
    {
      "cell_type": "markdown",
      "metadata": {
        "id": "u5AfWMA9kltw"
      },
      "source": [
        "## Importing the llibraries"
      ]
    },
    {
      "cell_type": "code",
      "metadata": {
        "_uuid": "8f2839f25d086af736a60e9eeb907d3b93b6e0e5",
        "_cell_guid": "b1076dfc-b9ad-4769-8c92-a6c4dae69d19",
        "execution": {
          "iopub.status.busy": "2021-10-30T06:59:08.20571Z",
          "iopub.execute_input": "2021-10-30T06:59:08.206026Z",
          "iopub.status.idle": "2021-10-30T06:59:12.639385Z",
          "shell.execute_reply.started": "2021-10-30T06:59:08.205999Z",
          "shell.execute_reply": "2021-10-30T06:59:12.638624Z"
        },
        "trusted": true,
        "id": "oZt9RITWj1--"
      },
      "source": [
        "import numpy as np\n",
        "import pandas as pd\n",
        "import tensorflow as tf\n",
        "import tensorflow.keras as k"
      ],
      "execution_count": 1,
      "outputs": []
    },
    {
      "cell_type": "markdown",
      "metadata": {
        "id": "uif-myBij1_K"
      },
      "source": [
        "## Mount the drive and get access to the dataset from the drive"
      ]
    },
    {
      "cell_type": "code",
      "metadata": {
        "colab": {
          "base_uri": "https://localhost:8080/"
        },
        "id": "TT4YoJSsk2Vi",
        "outputId": "b859d910-ea29-4707-a088-e776dcf77950"
      },
      "source": [
        "from google.colab import drive\n",
        "drive.mount('/content/drive')"
      ],
      "execution_count": 2,
      "outputs": [
        {
          "output_type": "stream",
          "name": "stdout",
          "text": [
            "Mounted at /content/drive\n"
          ]
        }
      ]
    },
    {
      "cell_type": "code",
      "metadata": {
        "_uuid": "d629ff2d2480ee46fbb7e2d37f6b5fab8052498a",
        "_cell_guid": "79c7e3d0-c299-4dcb-8224-4455121ee9b0",
        "execution": {
          "iopub.status.busy": "2021-10-30T06:59:12.643679Z",
          "iopub.execute_input": "2021-10-30T06:59:12.643944Z",
          "iopub.status.idle": "2021-10-30T06:59:18.01682Z",
          "shell.execute_reply.started": "2021-10-30T06:59:12.643919Z",
          "shell.execute_reply": "2021-10-30T06:59:18.015802Z"
        },
        "trusted": true,
        "colab": {
          "base_uri": "https://localhost:8080/",
          "height": 204
        },
        "id": "o4kRuX_4j1_O",
        "outputId": "5e97cd9e-95f3-40be-a323-f119482005ca"
      },
      "source": [
        "data = pd.read_csv('/content/drive/MyDrive/fer2013.csv')\n",
        "data.head()"
      ],
      "execution_count": 3,
      "outputs": [
        {
          "output_type": "execute_result",
          "data": {
            "text/html": [
              "<div>\n",
              "<style scoped>\n",
              "    .dataframe tbody tr th:only-of-type {\n",
              "        vertical-align: middle;\n",
              "    }\n",
              "\n",
              "    .dataframe tbody tr th {\n",
              "        vertical-align: top;\n",
              "    }\n",
              "\n",
              "    .dataframe thead th {\n",
              "        text-align: right;\n",
              "    }\n",
              "</style>\n",
              "<table border=\"1\" class=\"dataframe\">\n",
              "  <thead>\n",
              "    <tr style=\"text-align: right;\">\n",
              "      <th></th>\n",
              "      <th>emotion</th>\n",
              "      <th>pixels</th>\n",
              "      <th>Usage</th>\n",
              "    </tr>\n",
              "  </thead>\n",
              "  <tbody>\n",
              "    <tr>\n",
              "      <th>0</th>\n",
              "      <td>0</td>\n",
              "      <td>70 80 82 72 58 58 60 63 54 58 60 48 89 115 121...</td>\n",
              "      <td>Training</td>\n",
              "    </tr>\n",
              "    <tr>\n",
              "      <th>1</th>\n",
              "      <td>0</td>\n",
              "      <td>151 150 147 155 148 133 111 140 170 174 182 15...</td>\n",
              "      <td>Training</td>\n",
              "    </tr>\n",
              "    <tr>\n",
              "      <th>2</th>\n",
              "      <td>2</td>\n",
              "      <td>231 212 156 164 174 138 161 173 182 200 106 38...</td>\n",
              "      <td>Training</td>\n",
              "    </tr>\n",
              "    <tr>\n",
              "      <th>3</th>\n",
              "      <td>4</td>\n",
              "      <td>24 32 36 30 32 23 19 20 30 41 21 22 32 34 21 1...</td>\n",
              "      <td>Training</td>\n",
              "    </tr>\n",
              "    <tr>\n",
              "      <th>4</th>\n",
              "      <td>6</td>\n",
              "      <td>4 0 0 0 0 0 0 0 0 0 0 0 3 15 23 28 48 50 58 84...</td>\n",
              "      <td>Training</td>\n",
              "    </tr>\n",
              "  </tbody>\n",
              "</table>\n",
              "</div>"
            ],
            "text/plain": [
              "   emotion                                             pixels     Usage\n",
              "0        0  70 80 82 72 58 58 60 63 54 58 60 48 89 115 121...  Training\n",
              "1        0  151 150 147 155 148 133 111 140 170 174 182 15...  Training\n",
              "2        2  231 212 156 164 174 138 161 173 182 200 106 38...  Training\n",
              "3        4  24 32 36 30 32 23 19 20 30 41 21 22 32 34 21 1...  Training\n",
              "4        6  4 0 0 0 0 0 0 0 0 0 0 0 3 15 23 28 48 50 58 84...  Training"
            ]
          },
          "metadata": {},
          "execution_count": 3
        }
      ]
    },
    {
      "cell_type": "code",
      "metadata": {
        "execution": {
          "iopub.status.busy": "2021-10-30T06:59:18.018089Z",
          "iopub.execute_input": "2021-10-30T06:59:18.018429Z",
          "iopub.status.idle": "2021-10-30T06:59:18.022509Z",
          "shell.execute_reply.started": "2021-10-30T06:59:18.018394Z",
          "shell.execute_reply": "2021-10-30T06:59:18.02148Z"
        },
        "trusted": true,
        "id": "wd1JuWc6j1_Q"
      },
      "source": [
        "num_classes = 7\n",
        "img_width = 48\n",
        "img_height = 48"
      ],
      "execution_count": 4,
      "outputs": []
    },
    {
      "cell_type": "code",
      "metadata": {
        "execution": {
          "iopub.status.busy": "2021-10-30T06:59:18.024491Z",
          "iopub.execute_input": "2021-10-30T06:59:18.025146Z",
          "iopub.status.idle": "2021-10-30T06:59:18.038968Z",
          "shell.execute_reply.started": "2021-10-30T06:59:18.025105Z",
          "shell.execute_reply": "2021-10-30T06:59:18.037962Z"
        },
        "trusted": true,
        "colab": {
          "base_uri": "https://localhost:8080/"
        },
        "id": "9SVzbaXzj1_S",
        "outputId": "d8fb10ce-76f9-4a8f-ce50-e79d9d29d846"
      },
      "source": [
        "data.shape"
      ],
      "execution_count": 7,
      "outputs": [
        {
          "output_type": "execute_result",
          "data": {
            "text/plain": [
              "(35887, 3)"
            ]
          },
          "metadata": {},
          "execution_count": 7
        }
      ]
    },
    {
      "cell_type": "code",
      "metadata": {
        "execution": {
          "iopub.status.busy": "2021-10-30T06:59:18.041906Z",
          "iopub.execute_input": "2021-10-30T06:59:18.042344Z",
          "iopub.status.idle": "2021-10-30T06:59:18.06023Z",
          "shell.execute_reply.started": "2021-10-30T06:59:18.042304Z",
          "shell.execute_reply": "2021-10-30T06:59:18.059249Z"
        },
        "trusted": true,
        "colab": {
          "base_uri": "https://localhost:8080/"
        },
        "id": "o44lSayPj1_U",
        "outputId": "1d8380e2-4c25-4d14-e724-ac8ee1ae888e"
      },
      "source": [
        "data.Usage.value_counts()"
      ],
      "execution_count": 8,
      "outputs": [
        {
          "output_type": "execute_result",
          "data": {
            "text/plain": [
              "Training       28709\n",
              "PrivateTest     3589\n",
              "PublicTest      3589\n",
              "Name: Usage, dtype: int64"
            ]
          },
          "metadata": {},
          "execution_count": 8
        }
      ]
    },
    {
      "cell_type": "code",
      "metadata": {
        "execution": {
          "iopub.status.busy": "2021-10-30T06:59:18.062038Z",
          "iopub.execute_input": "2021-10-30T06:59:18.062457Z",
          "iopub.status.idle": "2021-10-30T06:59:18.069433Z",
          "shell.execute_reply.started": "2021-10-30T06:59:18.062419Z",
          "shell.execute_reply": "2021-10-30T06:59:18.068647Z"
        },
        "trusted": true,
        "id": "gT38l1JPj1_W"
      },
      "source": [
        "X = data['pixels']\n",
        "y = data['emotion']"
      ],
      "execution_count": 9,
      "outputs": []
    },
    {
      "cell_type": "markdown",
      "metadata": {
        "id": "RJ5PtweEj1_Y"
      },
      "source": [
        "## Dataset preprocessing and splitting the dataset into Train and Test"
      ]
    },
    {
      "cell_type": "code",
      "metadata": {
        "execution": {
          "iopub.status.busy": "2021-10-30T06:59:18.585534Z",
          "iopub.execute_input": "2021-10-30T06:59:18.585868Z",
          "iopub.status.idle": "2021-10-30T06:59:19.238404Z",
          "shell.execute_reply.started": "2021-10-30T06:59:18.585838Z",
          "shell.execute_reply": "2021-10-30T06:59:19.237659Z"
        },
        "trusted": true,
        "id": "VJ6Iwo_Xj1_a"
      },
      "source": [
        "from sklearn.model_selection import train_test_split\n",
        "X_train, X_test, y_train, y_test = train_test_split(X, y, test_size=0.1, random_state=0)"
      ],
      "execution_count": 10,
      "outputs": []
    },
    {
      "cell_type": "code",
      "metadata": {
        "execution": {
          "iopub.status.busy": "2021-10-30T06:59:20.480473Z",
          "iopub.execute_input": "2021-10-30T06:59:20.480847Z",
          "iopub.status.idle": "2021-10-30T06:59:36.223355Z",
          "shell.execute_reply.started": "2021-10-30T06:59:20.480816Z",
          "shell.execute_reply": "2021-10-30T06:59:36.222544Z"
        },
        "trusted": true,
        "id": "svOR0Fp5j1_d"
      },
      "source": [
        "X_train_new = []\n",
        "for i in X_train:\n",
        "    X_train_new.append([int(j) for j in i.split()])"
      ],
      "execution_count": 11,
      "outputs": []
    },
    {
      "cell_type": "code",
      "metadata": {
        "execution": {
          "iopub.status.busy": "2021-10-30T06:59:36.225107Z",
          "iopub.execute_input": "2021-10-30T06:59:36.225434Z",
          "iopub.status.idle": "2021-10-30T06:59:50.288197Z",
          "shell.execute_reply.started": "2021-10-30T06:59:36.225406Z",
          "shell.execute_reply": "2021-10-30T06:59:50.287011Z"
        },
        "trusted": true,
        "id": "Ucta3jbAj1_e"
      },
      "source": [
        "X_train_new = np.array(X_train_new)/255.0"
      ],
      "execution_count": 12,
      "outputs": []
    },
    {
      "cell_type": "code",
      "metadata": {
        "execution": {
          "iopub.status.busy": "2021-10-30T06:59:50.293098Z",
          "iopub.execute_input": "2021-10-30T06:59:50.295609Z",
          "iopub.status.idle": "2021-10-30T06:59:52.086578Z",
          "shell.execute_reply.started": "2021-10-30T06:59:50.295557Z",
          "shell.execute_reply": "2021-10-30T06:59:52.085656Z"
        },
        "trusted": true,
        "id": "RDZMPH46j1_f"
      },
      "source": [
        "X_test_new = []\n",
        "for i in X_test:\n",
        "    X_test_new.append([int(j) for j in i.split()])"
      ],
      "execution_count": 13,
      "outputs": []
    },
    {
      "cell_type": "code",
      "metadata": {
        "execution": {
          "iopub.status.busy": "2021-10-30T06:59:52.089851Z",
          "iopub.execute_input": "2021-10-30T06:59:52.090128Z",
          "iopub.status.idle": "2021-10-30T06:59:53.594993Z",
          "shell.execute_reply.started": "2021-10-30T06:59:52.090102Z",
          "shell.execute_reply": "2021-10-30T06:59:53.594136Z"
        },
        "trusted": true,
        "id": "MC492j6uj1_g"
      },
      "source": [
        "X_test_new = np.array(X_test_new)/255.0"
      ],
      "execution_count": 14,
      "outputs": []
    },
    {
      "cell_type": "code",
      "metadata": {
        "execution": {
          "iopub.status.busy": "2021-10-30T06:59:53.597177Z",
          "iopub.execute_input": "2021-10-30T06:59:53.597448Z",
          "iopub.status.idle": "2021-10-30T06:59:53.601862Z",
          "shell.execute_reply.started": "2021-10-30T06:59:53.597422Z",
          "shell.execute_reply": "2021-10-30T06:59:53.60104Z"
        },
        "trusted": true,
        "id": "mGhsmyzij1_g"
      },
      "source": [
        "X_train_new = X_train_new.reshape(X_train_new.shape[0], img_width, img_height, 1)\n",
        "X_test_new = X_test_new.reshape(X_test_new.shape[0], img_width, img_height, 1)"
      ],
      "execution_count": 15,
      "outputs": []
    },
    {
      "cell_type": "code",
      "metadata": {
        "execution": {
          "iopub.status.busy": "2021-10-30T06:19:30.183327Z",
          "iopub.execute_input": "2021-10-30T06:19:30.18406Z",
          "iopub.status.idle": "2021-10-30T06:19:30.19151Z",
          "shell.execute_reply.started": "2021-10-30T06:19:30.184017Z",
          "shell.execute_reply": "2021-10-30T06:19:30.19045Z"
        },
        "trusted": true,
        "colab": {
          "base_uri": "https://localhost:8080/"
        },
        "id": "p5IEXR2yj1_h",
        "outputId": "f9369c49-24e0-49ff-9283-9b1134917038"
      },
      "source": [
        "X_test_new.shape"
      ],
      "execution_count": 16,
      "outputs": [
        {
          "output_type": "execute_result",
          "data": {
            "text/plain": [
              "(3589, 48, 48, 1)"
            ]
          },
          "metadata": {},
          "execution_count": 16
        }
      ]
    },
    {
      "cell_type": "code",
      "metadata": {
        "execution": {
          "iopub.status.busy": "2021-10-30T06:59:53.60373Z",
          "iopub.execute_input": "2021-10-30T06:59:53.604232Z",
          "iopub.status.idle": "2021-10-30T06:59:53.73669Z",
          "shell.execute_reply.started": "2021-10-30T06:59:53.604186Z",
          "shell.execute_reply": "2021-10-30T06:59:53.735892Z"
        },
        "trusted": true,
        "id": "ArvAE23Rj1_i"
      },
      "source": [
        "X_train_new = X_train_new.astype('float32')\n",
        "X_test_new = X_test_new.astype('float32')"
      ],
      "execution_count": 17,
      "outputs": []
    },
    {
      "cell_type": "code",
      "metadata": {
        "execution": {
          "iopub.status.busy": "2021-10-30T06:59:53.738467Z",
          "iopub.execute_input": "2021-10-30T06:59:53.739098Z",
          "iopub.status.idle": "2021-10-30T06:59:53.783212Z",
          "shell.execute_reply.started": "2021-10-30T06:59:53.739043Z",
          "shell.execute_reply": "2021-10-30T06:59:53.782558Z"
        },
        "trusted": true,
        "id": "g6C3qZHZj1_j"
      },
      "source": [
        "from keras.utils import np_utils\n",
        "y_train = np_utils.to_categorical(y_train, num_classes)\n",
        "y_test = np_utils.to_categorical(y_test, num_classes)"
      ],
      "execution_count": 18,
      "outputs": []
    },
    {
      "cell_type": "markdown",
      "metadata": {
        "id": "14QQKEsw01As"
      },
      "source": [
        "## Data Augmentation"
      ]
    },
    {
      "cell_type": "code",
      "metadata": {
        "id": "ALeNooDdouZL"
      },
      "source": [
        "from tensorflow.keras.preprocessing.image import ImageDataGenerator\n",
        "\n",
        "datagen = ImageDataGenerator(\n",
        "        featurewise_center=False,  \n",
        "        samplewise_center=False,  \n",
        "        featurewise_std_normalization=False,  \n",
        "        samplewise_std_normalization=False,  \n",
        "        zca_whitening=False,  \n",
        "        rotation_range=10,  \n",
        "        zoom_range = 0.0,  \n",
        "        width_shift_range=0.1,  \n",
        "        height_shift_range=0.1,  \n",
        "        horizontal_flip=False, \n",
        "        vertical_flip=False)  \n",
        "\n",
        "datagen.fit(X_train_new)"
      ],
      "execution_count": 29,
      "outputs": []
    },
    {
      "cell_type": "markdown",
      "metadata": {
        "id": "QPOxUaO6j1_j"
      },
      "source": [
        "## Building the model"
      ]
    },
    {
      "cell_type": "markdown",
      "metadata": {
        "id": "CWZuUqEMj1_k"
      },
      "source": [
        "Importing required lib's/packages"
      ]
    },
    {
      "cell_type": "code",
      "metadata": {
        "execution": {
          "iopub.status.busy": "2021-10-30T06:59:53.784282Z",
          "iopub.execute_input": "2021-10-30T06:59:53.784635Z",
          "iopub.status.idle": "2021-10-30T06:59:53.790741Z",
          "shell.execute_reply.started": "2021-10-30T06:59:53.784599Z",
          "shell.execute_reply": "2021-10-30T06:59:53.789624Z"
        },
        "trusted": true,
        "id": "Fxr6QpUCj1_k"
      },
      "source": [
        "from tensorflow.keras.models import Sequential\n",
        "from tensorflow.keras.layers import Dense, Conv2D, Flatten,Dropout, MaxPooling2D, Activation, BatchNormalization, InputLayer\n",
        "from tensorflow.keras import regularizers"
      ],
      "execution_count": 22,
      "outputs": []
    },
    {
      "cell_type": "code",
      "metadata": {
        "execution": {
          "iopub.status.busy": "2021-10-30T06:24:15.135549Z",
          "iopub.execute_input": "2021-10-30T06:24:15.135898Z",
          "iopub.status.idle": "2021-10-30T06:24:15.141141Z",
          "shell.execute_reply.started": "2021-10-30T06:24:15.135842Z",
          "shell.execute_reply": "2021-10-30T06:24:15.139783Z"
        },
        "trusted": true,
        "id": "mbBBQ1xzj1_l"
      },
      "source": [
        ""
      ],
      "execution_count": 19,
      "outputs": []
    },
    {
      "cell_type": "code",
      "metadata": {
        "execution": {
          "iopub.status.busy": "2021-10-30T07:21:17.545465Z",
          "iopub.execute_input": "2021-10-30T07:21:17.545841Z",
          "iopub.status.idle": "2021-10-30T07:21:17.550119Z",
          "shell.execute_reply.started": "2021-10-30T07:21:17.545809Z",
          "shell.execute_reply": "2021-10-30T07:21:17.549191Z"
        },
        "trusted": true,
        "id": "vlGSiN0wj1_m"
      },
      "source": [
        ""
      ],
      "execution_count": 20,
      "outputs": []
    },
    {
      "cell_type": "code",
      "metadata": {
        "execution": {
          "iopub.status.busy": "2021-10-30T07:21:21.216014Z",
          "iopub.execute_input": "2021-10-30T07:21:21.216348Z",
          "iopub.status.idle": "2021-10-30T07:21:21.495171Z",
          "shell.execute_reply.started": "2021-10-30T07:21:21.216317Z",
          "shell.execute_reply": "2021-10-30T07:21:21.49442Z"
        },
        "trusted": true,
        "colab": {
          "base_uri": "https://localhost:8080/"
        },
        "id": "szgeAwwfj1_m",
        "outputId": "12ef552e-e0a4-45bf-9f2e-52d680f42620"
      },
      "source": [
        "tf.random.set_seed(42)\n",
        "\n",
        "model= tf.keras.models.Sequential()\n",
        "model.add(Conv2D(32, kernel_size=(3, 3), padding='same', activation='relu', input_shape=(48, 48,1)))\n",
        "model.add(Conv2D(64,(3,3), padding='same', activation='relu' ))\n",
        "model.add(BatchNormalization())\n",
        "model.add(MaxPooling2D(pool_size=(2, 2)))\n",
        "model.add(Dropout(0.25))\n",
        "\n",
        "model.add(Conv2D(128,(5,5), padding='same', activation='relu'))\n",
        "model.add(BatchNormalization())\n",
        "model.add(MaxPooling2D(pool_size=(2, 2)))\n",
        "model.add(Dropout(0.25))\n",
        "    \n",
        "model.add(Conv2D(512,(3,3), padding='same', activation='relu', kernel_regularizer=regularizers.l2(0.01)))\n",
        "model.add(BatchNormalization())\n",
        "model.add(MaxPooling2D(pool_size=(2, 2)))\n",
        "model.add(Dropout(0.25))\n",
        "\n",
        "model.add(Conv2D(512,(3,3), padding='same', activation='relu', kernel_regularizer=regularizers.l2(0.01)))\n",
        "model.add(BatchNormalization())\n",
        "model.add(MaxPooling2D(pool_size=(2, 2)))\n",
        "model.add(Dropout(0.25))\n",
        "\n",
        "model.add(Flatten()) \n",
        "model.add(Dense(256,activation = 'relu'))\n",
        "model.add(BatchNormalization())\n",
        "model.add(Dropout(0.25))\n",
        "    \n",
        "model.add(Dense(512,activation = 'relu'))\n",
        "model.add(BatchNormalization())\n",
        "model.add(Dropout(0.25))\n",
        "\n",
        "model.add(Dense(7, activation='softmax'))\n",
        "\n",
        "model.compile(\n",
        "    optimizer = Adam(lr=0.0001), \n",
        "    loss='categorical_crossentropy', \n",
        "    metrics=['accuracy']\n",
        "  )"
      ],
      "execution_count": 24,
      "outputs": [
        {
          "output_type": "stream",
          "name": "stderr",
          "text": [
            "/usr/local/lib/python3.7/dist-packages/keras/optimizer_v2/optimizer_v2.py:356: UserWarning: The `lr` argument is deprecated, use `learning_rate` instead.\n",
            "  \"The `lr` argument is deprecated, use `learning_rate` instead.\")\n"
          ]
        }
      ]
    },
    {
      "cell_type": "code",
      "metadata": {
        "id": "unJk89TipWKq"
      },
      "source": [
        ""
      ],
      "execution_count": 30,
      "outputs": []
    },
    {
      "cell_type": "code",
      "metadata": {
        "execution": {
          "iopub.status.busy": "2021-10-30T07:21:32.226632Z",
          "iopub.execute_input": "2021-10-30T07:21:32.226959Z",
          "iopub.status.idle": "2021-10-30T07:21:32.232445Z",
          "shell.execute_reply.started": "2021-10-30T07:21:32.226928Z",
          "shell.execute_reply": "2021-10-30T07:21:32.231615Z"
        },
        "trusted": true,
        "id": "rR-kjsjEj1_o"
      },
      "source": [
        "epochs = 60\n",
        "batch_size = 64"
      ],
      "execution_count": 25,
      "outputs": []
    },
    {
      "cell_type": "markdown",
      "metadata": {
        "id": "7LHzenE-1U6t"
      },
      "source": [
        "### Training the model"
      ]
    },
    {
      "cell_type": "code",
      "metadata": {
        "execution": {
          "iopub.status.busy": "2021-10-30T07:21:35.482148Z",
          "iopub.execute_input": "2021-10-30T07:21:35.482479Z",
          "iopub.status.idle": "2021-10-30T07:38:18.273215Z",
          "shell.execute_reply.started": "2021-10-30T07:21:35.482447Z",
          "shell.execute_reply": "2021-10-30T07:38:18.27242Z"
        },
        "trusted": true,
        "colab": {
          "base_uri": "https://localhost:8080/"
        },
        "id": "NllXvBuCj1_p",
        "outputId": "7bd0a06e-3d9e-44f3-fa97-5ae36f0653df"
      },
      "source": [
        "history = model.fit(datagen.flow(X_train_new, y_train), epochs=60, batch_size=64,validation_data=(X_test_new,y_test))"
      ],
      "execution_count": 31,
      "outputs": [
        {
          "output_type": "stream",
          "name": "stdout",
          "text": [
            "Epoch 1/60\n",
            "1010/1010 [==============================] - 76s 44ms/step - loss: 8.8080 - accuracy: 0.2069 - val_loss: 7.5986 - val_accuracy: 0.2708\n",
            "Epoch 2/60\n",
            "1010/1010 [==============================] - 43s 43ms/step - loss: 6.6987 - accuracy: 0.2421 - val_loss: 5.3940 - val_accuracy: 0.3413\n",
            "Epoch 3/60\n",
            "1010/1010 [==============================] - 43s 43ms/step - loss: 4.7781 - accuracy: 0.2925 - val_loss: 3.7688 - val_accuracy: 0.3909\n",
            "Epoch 4/60\n",
            "1010/1010 [==============================] - 43s 42ms/step - loss: 3.4521 - accuracy: 0.3577 - val_loss: 2.8269 - val_accuracy: 0.4486\n",
            "Epoch 5/60\n",
            "1010/1010 [==============================] - 43s 43ms/step - loss: 2.7357 - accuracy: 0.4050 - val_loss: 2.4081 - val_accuracy: 0.4611\n",
            "Epoch 6/60\n",
            "1010/1010 [==============================] - 43s 42ms/step - loss: 2.2744 - accuracy: 0.4479 - val_loss: 2.1128 - val_accuracy: 0.4762\n",
            "Epoch 7/60\n",
            "1010/1010 [==============================] - 43s 42ms/step - loss: 2.0206 - accuracy: 0.4762 - val_loss: 1.8884 - val_accuracy: 0.5171\n",
            "Epoch 8/60\n",
            "1010/1010 [==============================] - 43s 42ms/step - loss: 1.8618 - accuracy: 0.5017 - val_loss: 1.6825 - val_accuracy: 0.5575\n",
            "Epoch 9/60\n",
            "1010/1010 [==============================] - 43s 42ms/step - loss: 1.7514 - accuracy: 0.5247 - val_loss: 1.5645 - val_accuracy: 0.5740\n",
            "Epoch 10/60\n",
            "1010/1010 [==============================] - 43s 42ms/step - loss: 1.6756 - accuracy: 0.5373 - val_loss: 1.6428 - val_accuracy: 0.5433\n",
            "Epoch 11/60\n",
            "1010/1010 [==============================] - 43s 43ms/step - loss: 1.6212 - accuracy: 0.5525 - val_loss: 1.5268 - val_accuracy: 0.5801\n",
            "Epoch 12/60\n",
            "1010/1010 [==============================] - 43s 43ms/step - loss: 1.6023 - accuracy: 0.5614 - val_loss: 1.4783 - val_accuracy: 0.6004\n",
            "Epoch 13/60\n",
            "1010/1010 [==============================] - 43s 43ms/step - loss: 1.5877 - accuracy: 0.5697 - val_loss: 1.5155 - val_accuracy: 0.5913\n",
            "Epoch 14/60\n",
            "1010/1010 [==============================] - 43s 42ms/step - loss: 1.5506 - accuracy: 0.5753 - val_loss: 1.5314 - val_accuracy: 0.5821\n",
            "Epoch 15/60\n",
            "1010/1010 [==============================] - 43s 42ms/step - loss: 1.5312 - accuracy: 0.5825 - val_loss: 1.5144 - val_accuracy: 0.5874\n",
            "Epoch 16/60\n",
            "1010/1010 [==============================] - 43s 42ms/step - loss: 1.5071 - accuracy: 0.5903 - val_loss: 1.4963 - val_accuracy: 0.5865\n",
            "Epoch 17/60\n",
            "1010/1010 [==============================] - 43s 42ms/step - loss: 1.4939 - accuracy: 0.5938 - val_loss: 1.5083 - val_accuracy: 0.5952\n",
            "Epoch 18/60\n",
            "1010/1010 [==============================] - 43s 42ms/step - loss: 1.4771 - accuracy: 0.5978 - val_loss: 1.4259 - val_accuracy: 0.6169\n",
            "Epoch 19/60\n",
            "1010/1010 [==============================] - 43s 43ms/step - loss: 1.4768 - accuracy: 0.6031 - val_loss: 1.4383 - val_accuracy: 0.6096\n",
            "Epoch 20/60\n",
            "1010/1010 [==============================] - 43s 43ms/step - loss: 1.4598 - accuracy: 0.6094 - val_loss: 1.4147 - val_accuracy: 0.6211\n",
            "Epoch 21/60\n",
            "1010/1010 [==============================] - 43s 43ms/step - loss: 1.4537 - accuracy: 0.6106 - val_loss: 1.4305 - val_accuracy: 0.6258\n",
            "Epoch 22/60\n",
            "1010/1010 [==============================] - 43s 42ms/step - loss: 1.4453 - accuracy: 0.6138 - val_loss: 1.3861 - val_accuracy: 0.6314\n",
            "Epoch 23/60\n",
            "1010/1010 [==============================] - 43s 42ms/step - loss: 1.4383 - accuracy: 0.6182 - val_loss: 1.3896 - val_accuracy: 0.6328\n",
            "Epoch 24/60\n",
            "1010/1010 [==============================] - 43s 42ms/step - loss: 1.4290 - accuracy: 0.6174 - val_loss: 1.4160 - val_accuracy: 0.6227\n",
            "Epoch 25/60\n",
            "1010/1010 [==============================] - 43s 42ms/step - loss: 1.4180 - accuracy: 0.6245 - val_loss: 1.4051 - val_accuracy: 0.6294\n",
            "Epoch 26/60\n",
            "1010/1010 [==============================] - 43s 42ms/step - loss: 1.4175 - accuracy: 0.6264 - val_loss: 1.4500 - val_accuracy: 0.6202\n",
            "Epoch 27/60\n",
            "1010/1010 [==============================] - 43s 42ms/step - loss: 1.4158 - accuracy: 0.6320 - val_loss: 1.3621 - val_accuracy: 0.6450\n",
            "Epoch 28/60\n",
            "1010/1010 [==============================] - 43s 42ms/step - loss: 1.4169 - accuracy: 0.6334 - val_loss: 1.3794 - val_accuracy: 0.6381\n",
            "Epoch 29/60\n",
            "1010/1010 [==============================] - 43s 42ms/step - loss: 1.4143 - accuracy: 0.6324 - val_loss: 1.3926 - val_accuracy: 0.6369\n",
            "Epoch 30/60\n",
            "1010/1010 [==============================] - 43s 42ms/step - loss: 1.4017 - accuracy: 0.6369 - val_loss: 1.4337 - val_accuracy: 0.6239\n",
            "Epoch 31/60\n",
            "1010/1010 [==============================] - 43s 43ms/step - loss: 1.4001 - accuracy: 0.6376 - val_loss: 1.3529 - val_accuracy: 0.6565\n",
            "Epoch 32/60\n",
            "1010/1010 [==============================] - 43s 42ms/step - loss: 1.3949 - accuracy: 0.6435 - val_loss: 1.3629 - val_accuracy: 0.6498\n",
            "Epoch 33/60\n",
            "1010/1010 [==============================] - 43s 43ms/step - loss: 1.4005 - accuracy: 0.6405 - val_loss: 1.3710 - val_accuracy: 0.6503\n",
            "Epoch 34/60\n",
            "1010/1010 [==============================] - 43s 43ms/step - loss: 1.3948 - accuracy: 0.6424 - val_loss: 1.3870 - val_accuracy: 0.6395\n",
            "Epoch 35/60\n",
            "1010/1010 [==============================] - 43s 43ms/step - loss: 1.3991 - accuracy: 0.6438 - val_loss: 1.3933 - val_accuracy: 0.6425\n",
            "Epoch 36/60\n",
            "1010/1010 [==============================] - 43s 43ms/step - loss: 1.3892 - accuracy: 0.6439 - val_loss: 1.3702 - val_accuracy: 0.6489\n",
            "Epoch 37/60\n",
            "1010/1010 [==============================] - 43s 43ms/step - loss: 1.3799 - accuracy: 0.6485 - val_loss: 1.3915 - val_accuracy: 0.6509\n",
            "Epoch 38/60\n",
            "1010/1010 [==============================] - 44s 43ms/step - loss: 1.3787 - accuracy: 0.6505 - val_loss: 1.4298 - val_accuracy: 0.6289\n",
            "Epoch 39/60\n",
            "1010/1010 [==============================] - 44s 43ms/step - loss: 1.3810 - accuracy: 0.6499 - val_loss: 1.4246 - val_accuracy: 0.6395\n",
            "Epoch 40/60\n",
            "1010/1010 [==============================] - 43s 43ms/step - loss: 1.3745 - accuracy: 0.6533 - val_loss: 1.3858 - val_accuracy: 0.6551\n",
            "Epoch 41/60\n",
            "1010/1010 [==============================] - 43s 43ms/step - loss: 1.3745 - accuracy: 0.6539 - val_loss: 1.4081 - val_accuracy: 0.6361\n",
            "Epoch 42/60\n",
            "1010/1010 [==============================] - 43s 43ms/step - loss: 1.3711 - accuracy: 0.6538 - val_loss: 1.3778 - val_accuracy: 0.6606\n",
            "Epoch 43/60\n",
            "1010/1010 [==============================] - 43s 43ms/step - loss: 1.3650 - accuracy: 0.6596 - val_loss: 1.3664 - val_accuracy: 0.6595\n",
            "Epoch 44/60\n",
            "1010/1010 [==============================] - 44s 43ms/step - loss: 1.3735 - accuracy: 0.6576 - val_loss: 1.3837 - val_accuracy: 0.6570\n",
            "Epoch 45/60\n",
            "1010/1010 [==============================] - 44s 43ms/step - loss: 1.3585 - accuracy: 0.6648 - val_loss: 1.3845 - val_accuracy: 0.6634\n",
            "Epoch 46/60\n",
            "1010/1010 [==============================] - 43s 43ms/step - loss: 1.3547 - accuracy: 0.6629 - val_loss: 1.3599 - val_accuracy: 0.6551\n",
            "Epoch 47/60\n",
            "1010/1010 [==============================] - 44s 43ms/step - loss: 1.3563 - accuracy: 0.6616 - val_loss: 1.3772 - val_accuracy: 0.6542\n",
            "Epoch 48/60\n",
            "1010/1010 [==============================] - 44s 43ms/step - loss: 1.3473 - accuracy: 0.6645 - val_loss: 1.3739 - val_accuracy: 0.6512\n",
            "Epoch 49/60\n",
            "1010/1010 [==============================] - 44s 43ms/step - loss: 1.3384 - accuracy: 0.6675 - val_loss: 1.3746 - val_accuracy: 0.6551\n",
            "Epoch 50/60\n",
            "1010/1010 [==============================] - 44s 43ms/step - loss: 1.3391 - accuracy: 0.6656 - val_loss: 1.3473 - val_accuracy: 0.6648\n",
            "Epoch 51/60\n",
            "1010/1010 [==============================] - 44s 43ms/step - loss: 1.3405 - accuracy: 0.6653 - val_loss: 1.4061 - val_accuracy: 0.6473\n",
            "Epoch 52/60\n",
            "1010/1010 [==============================] - 44s 43ms/step - loss: 1.3340 - accuracy: 0.6699 - val_loss: 1.3490 - val_accuracy: 0.6690\n",
            "Epoch 53/60\n",
            "1010/1010 [==============================] - 44s 43ms/step - loss: 1.3362 - accuracy: 0.6700 - val_loss: 1.3769 - val_accuracy: 0.6609\n",
            "Epoch 54/60\n",
            "1010/1010 [==============================] - 43s 43ms/step - loss: 1.3264 - accuracy: 0.6740 - val_loss: 1.3601 - val_accuracy: 0.6679\n",
            "Epoch 55/60\n",
            "1010/1010 [==============================] - 44s 43ms/step - loss: 1.3360 - accuracy: 0.6706 - val_loss: 1.3636 - val_accuracy: 0.6629\n",
            "Epoch 56/60\n",
            "1010/1010 [==============================] - 44s 43ms/step - loss: 1.3292 - accuracy: 0.6732 - val_loss: 1.3816 - val_accuracy: 0.6590\n",
            "Epoch 57/60\n",
            "1010/1010 [==============================] - 44s 43ms/step - loss: 1.3305 - accuracy: 0.6725 - val_loss: 1.3677 - val_accuracy: 0.6601\n",
            "Epoch 58/60\n",
            "1010/1010 [==============================] - 43s 43ms/step - loss: 1.3288 - accuracy: 0.6740 - val_loss: 1.3786 - val_accuracy: 0.6606\n",
            "Epoch 59/60\n",
            "1010/1010 [==============================] - 44s 43ms/step - loss: 1.3246 - accuracy: 0.6745 - val_loss: 1.3455 - val_accuracy: 0.6670\n",
            "Epoch 60/60\n",
            "1010/1010 [==============================] - 43s 43ms/step - loss: 1.3238 - accuracy: 0.6754 - val_loss: 1.3945 - val_accuracy: 0.6662\n"
          ]
        }
      ]
    },
    {
      "cell_type": "markdown",
      "metadata": {
        "id": "RUgEKeSU1Yvz"
      },
      "source": [
        "## Plotting the loss and accuracy curves"
      ]
    },
    {
      "cell_type": "code",
      "metadata": {
        "execution": {
          "iopub.status.busy": "2021-10-30T07:39:29.173621Z",
          "iopub.execute_input": "2021-10-30T07:39:29.174Z",
          "iopub.status.idle": "2021-10-30T07:39:29.329361Z",
          "shell.execute_reply.started": "2021-10-30T07:39:29.17397Z",
          "shell.execute_reply": "2021-10-30T07:39:29.328412Z"
        },
        "trusted": true,
        "colab": {
          "base_uri": "https://localhost:8080/",
          "height": 295
        },
        "id": "AmZIuv8dj1_q",
        "outputId": "c5ffb9b7-9aee-4a90-dba1-d3fcdca161bd"
      },
      "source": [
        "import matplotlib.pyplot as plt\n",
        "\n",
        "plt.plot(history.history['loss'])\n",
        "plt.plot(history.history['val_loss'])\n",
        "plt.title('model loss')\n",
        "plt.ylabel('loss')\n",
        "plt.xlabel('epoch')\n",
        "plt.legend(['train', 'val'], loc='upper left')\n",
        "plt.show()"
      ],
      "execution_count": 32,
      "outputs": [
        {
          "output_type": "display_data",
          "data": {
            "image/png": "[encoded data removed]",
            "text/plain": [
              "<Figure size 432x288 with 1 Axes>"
            ]
          },
          "metadata": {
            "needs_background": "light"
          }
        }
      ]
    },
    {
      "cell_type": "code",
      "metadata": {
        "execution": {
          "iopub.status.busy": "2021-10-30T07:42:11.846271Z",
          "iopub.execute_input": "2021-10-30T07:42:11.846711Z",
          "iopub.status.idle": "2021-10-30T07:42:12.01162Z",
          "shell.execute_reply.started": "2021-10-30T07:42:11.846673Z",
          "shell.execute_reply": "2021-10-30T07:42:12.010684Z"
        },
        "trusted": true,
        "colab": {
          "base_uri": "https://localhost:8080/",
          "height": 295
        },
        "id": "Nxj-zpEBj1_r",
        "outputId": "4ae68951-8e26-4c1f-976c-615e98e80a02"
      },
      "source": [
        "import matplotlib.pyplot as plt\n",
        "\n",
        "plt.plot(history.history['accuracy'])\n",
        "plt.plot(history.history['val_accuracy'])\n",
        "plt.title('model accuracy')\n",
        "plt.ylabel('accuracy')\n",
        "plt.xlabel('epoch')\n",
        "plt.legend(['train', 'val'], loc='upper left')\n",
        "plt.show()"
      ],
      "execution_count": 33,
      "outputs": [
        {
          "output_type": "display_data",
          "data": {
            "image/png": "[encoded data removed]",
            "text/plain": [
              "<Figure size 432x288 with 1 Axes>"
            ]
          },
          "metadata": {
            "needs_background": "light"
          }
        }
      ]
    },
    {
      "cell_type": "code",
      "metadata": {
        "colab": {
          "base_uri": "https://localhost:8080/"
        },
        "id": "FYuoVB6nj1_s",
        "outputId": "a81daae8-960d-4f12-bdea-561619433e53"
      },
      "source": [
        "model.evaluate(X_test_new,y_test)"
      ],
      "execution_count": 34,
      "outputs": [
        {
          "output_type": "stream",
          "name": "stdout",
          "text": [
            "113/113 [==============================] - 2s 15ms/step - loss: 1.3945 - accuracy: 0.6662\n"
          ]
        },
        {
          "output_type": "execute_result",
          "data": {
            "text/plain": [
              "[1.3944731950759888, 0.6662023067474365]"
            ]
          },
          "metadata": {},
          "execution_count": 34
        }
      ]
    },
    {
      "cell_type": "code",
      "metadata": {
        "id": "crG9lKiPj1_s"
      },
      "source": [
        ""
      ],
      "execution_count": null,
      "outputs": []
    },
    {
      "cell_type": "code",
      "metadata": {
        "id": "KzE8zD58j1_s"
      },
      "source": [
        ""
      ],
      "execution_count": null,
      "outputs": []
    },
    {
      "cell_type": "markdown",
      "metadata": {
        "id": "wUGGvuaN2hym"
      },
      "source": [
        "# Summary\n",
        "* **The demo in the module 7** if we train the model for few more epochs the models gets overfitted. It can be due to less number of images\n",
        "* So to improve the model performance we need to add the regualrizers, Dropout and Increase the number of images.\n",
        "* For increasing the number of images we use the Image Data Generator class in keras. This class helps us to increase the images by rotating, shifting, zooming, flipping them.\n",
        "* Regularization forces the model weights to take smaller values.\n",
        "* Dropout is used to freeze some of the nodes during the training process. The nodes are select randomly for every epoch.\n",
        "* All these techniques are implemented in the model above.\n",
        "* Download the dataset and upload that to the drive. Load the dataset and preprocess it.\n",
        "* Now split the dataset into train and test and so the rescaling and reshaping for the images.\n",
        "* Augment the images using the Image Data Generator class.\n",
        "* Now build the model. I tried a couple of models and this model suits the best for the given dataset. In order to avoid overfitting I used dropout, regularizers in the model.\n",
        "* Compile the model using adam optimizer and change the learning rate to 0.0001, loss as categorical crossentropy and accuracy as metrics.\n",
        "* Visualize the training and loss curves and evaluate the model using the test dataset."
      ]
    }
  ]
}