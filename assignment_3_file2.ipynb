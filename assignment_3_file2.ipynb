{
  "nbformat": 4,
  "nbformat_minor": 0,
  "metadata": {
    "kernelspec": {
      "language": "python",
      "display_name": "Python 3",
      "name": "python3"
    },
    "language_info": {
      "name": "python",
      "version": "3.7.10",
      "mimetype": "text/x-python",
      "codemirror_mode": {
        "name": "ipython",
        "version": 3
      },
      "pygments_lexer": "ipython3",
      "nbconvert_exporter": "python",
      "file_extension": ".py"
    },
    "colab": {
      "name": "assignment-3-file2.ipynb",
      "provenance": [],
      "collapsed_sections": []
    }
  },
  "cells": [
    {
      "cell_type": "markdown",
      "metadata": {
        "id": "oho4RFTsk5RT"
      },
      "source": [
        "## Create a Notebook File and perform the following tasks\n",
        "\n",
        "\n",
        "* Try improving the model and re-code the program from scratch without looking too much at the source code.\n",
        "* Write-up a summary explaining how your program worksin the markdown cell"
      ]
    },
    {
      "cell_type": "code",
      "metadata": {
        "id": "6u3ahoUX1-BF",
        "execution": {
          "iopub.status.busy": "2021-10-24T05:59:01.688971Z",
          "iopub.execute_input": "2021-10-24T05:59:01.689411Z",
          "iopub.status.idle": "2021-10-24T05:59:02.713099Z",
          "shell.execute_reply.started": "2021-10-24T05:59:01.689296Z",
          "shell.execute_reply": "2021-10-24T05:59:02.712075Z"
        },
        "trusted": true
      },
      "source": [
        "!nvidia-smi"
      ],
      "execution_count": null,
      "outputs": []
    },
    {
      "cell_type": "code",
      "metadata": {
        "id": "PutPKHahgD3E",
        "execution": {
          "iopub.status.busy": "2021-10-24T05:59:14.008348Z",
          "iopub.execute_input": "2021-10-24T05:59:14.008677Z",
          "iopub.status.idle": "2021-10-24T05:59:14.111037Z",
          "shell.execute_reply.started": "2021-10-24T05:59:14.008644Z",
          "shell.execute_reply": "2021-10-24T05:59:14.110056Z"
        },
        "trusted": true
      },
      "source": [
        "import glob\n",
        "import imageio\n",
        "import matplotlib.pyplot as plt\n",
        "import numpy as np\n",
        "import os\n",
        "import PIL\n",
        "import time\n",
        "\n",
        "from IPython import display"
      ],
      "execution_count": null,
      "outputs": []
    },
    {
      "cell_type": "code",
      "metadata": {
        "id": "3YyySyqD2L47",
        "execution": {
          "iopub.status.busy": "2021-10-24T05:59:16.610805Z",
          "iopub.execute_input": "2021-10-24T05:59:16.611123Z",
          "iopub.status.idle": "2021-10-24T05:59:23.489582Z",
          "shell.execute_reply.started": "2021-10-24T05:59:16.611076Z",
          "shell.execute_reply": "2021-10-24T05:59:23.488484Z"
        },
        "trusted": true
      },
      "source": [
        "import tensorflow as tf\n",
        "from tensorflow.keras.datasets import mnist\n",
        "from tensorflow.keras.layers import Conv2D, Conv2DTranspose, UpSampling2D, Conv2D, Flatten, Dropout, MaxPooling2D, Activation,BatchNormalization,LeakyReLU,Dense,Reshape\n",
        "from tensorflow.keras.models import Sequential,Model\n",
        "from tensorflow.keras.preprocessing.image import ImageDataGenerator \n",
        "from tensorflow.keras.preprocessing import image\n",
        "import matplotlib.pyplot as plt\n",
        "import matplotlib.image as mpimg\n",
        "import numpy as np\n",
        "import pandas as pd\n",
        "import numpy as np"
      ],
      "execution_count": null,
      "outputs": []
    },
    {
      "cell_type": "markdown",
      "metadata": {
        "id": "JOFpLCcq39ar"
      },
      "source": [
        "## Dataset Exploration"
      ]
    },
    {
      "cell_type": "code",
      "metadata": {
        "id": "M2XMLNxZ2MHI",
        "execution": {
          "iopub.status.busy": "2021-10-24T06:00:55.294300Z",
          "iopub.execute_input": "2021-10-24T06:00:55.294705Z",
          "iopub.status.idle": "2021-10-24T06:00:55.619878Z",
          "shell.execute_reply.started": "2021-10-24T06:00:55.294674Z",
          "shell.execute_reply": "2021-10-24T06:00:55.618921Z"
        },
        "trusted": true
      },
      "source": [
        "(x_train,y_train),(_,_)=mnist.load_data()\n",
        "x_train.shape"
      ],
      "execution_count": null,
      "outputs": []
    },
    {
      "cell_type": "code",
      "metadata": {
        "trusted": true,
        "id": "HU0S7_pjklnK"
      },
      "source": [
        ""
      ],
      "execution_count": null,
      "outputs": []
    },
    {
      "cell_type": "markdown",
      "metadata": {
        "id": "Ey_qS31I4TD3"
      },
      "source": [
        "## Preprocessing the dataset"
      ]
    },
    {
      "cell_type": "code",
      "metadata": {
        "id": "PRITZJJz4SC-",
        "execution": {
          "iopub.status.busy": "2021-10-24T06:01:00.095511Z",
          "iopub.execute_input": "2021-10-24T06:01:00.095837Z",
          "iopub.status.idle": "2021-10-24T06:01:00.214965Z",
          "shell.execute_reply.started": "2021-10-24T06:01:00.095807Z",
          "shell.execute_reply": "2021-10-24T06:01:00.213960Z"
        },
        "trusted": true
      },
      "source": [
        "x_train = (x_train.astype(np.float32) - 127.5)/127.5\n",
        "x_train = x_train.reshape(x_train.shape[0], x_train.shape[1],x_train.shape[2],1)"
      ],
      "execution_count": null,
      "outputs": []
    },
    {
      "cell_type": "code",
      "metadata": {
        "id": "HfrVZkQU6_TF",
        "execution": {
          "iopub.status.busy": "2021-10-24T06:01:02.886907Z",
          "iopub.execute_input": "2021-10-24T06:01:02.887476Z",
          "iopub.status.idle": "2021-10-24T06:01:02.897338Z",
          "shell.execute_reply.started": "2021-10-24T06:01:02.887428Z",
          "shell.execute_reply": "2021-10-24T06:01:02.896237Z"
        },
        "trusted": true
      },
      "source": [
        "x_train.shape"
      ],
      "execution_count": null,
      "outputs": []
    },
    {
      "cell_type": "code",
      "metadata": {
        "id": "tsKV2G8Fjc5Q",
        "execution": {
          "iopub.status.busy": "2021-10-24T06:01:04.992511Z",
          "iopub.execute_input": "2021-10-24T06:01:04.992845Z",
          "iopub.status.idle": "2021-10-24T06:01:04.997631Z",
          "shell.execute_reply.started": "2021-10-24T06:01:04.992812Z",
          "shell.execute_reply": "2021-10-24T06:01:04.996621Z"
        },
        "trusted": true
      },
      "source": [
        "BUFFER_SIZE = 60000\n",
        "BATCH_SIZE = 300"
      ],
      "execution_count": null,
      "outputs": []
    },
    {
      "cell_type": "code",
      "metadata": {
        "id": "sST7cxxL6_bG",
        "execution": {
          "iopub.status.busy": "2021-10-24T06:01:10.084043Z",
          "iopub.execute_input": "2021-10-24T06:01:10.084840Z",
          "iopub.status.idle": "2021-10-24T06:01:10.545855Z",
          "shell.execute_reply.started": "2021-10-24T06:01:10.084778Z",
          "shell.execute_reply": "2021-10-24T06:01:10.544883Z"
        },
        "trusted": true
      },
      "source": [
        "x_train = tf.data.Dataset.from_tensor_slices(x_train).shuffle(BUFFER_SIZE).batch(BATCH_SIZE)"
      ],
      "execution_count": null,
      "outputs": []
    },
    {
      "cell_type": "markdown",
      "metadata": {
        "id": "hyxDHFXIVpis"
      },
      "source": [
        "## Building Generator model"
      ]
    },
    {
      "cell_type": "code",
      "metadata": {
        "id": "8ZXOp1686_f6",
        "execution": {
          "iopub.status.busy": "2021-10-24T06:08:52.623152Z",
          "iopub.execute_input": "2021-10-24T06:08:52.623474Z",
          "iopub.status.idle": "2021-10-24T06:08:52.634961Z",
          "shell.execute_reply.started": "2021-10-24T06:08:52.623444Z",
          "shell.execute_reply": "2021-10-24T06:08:52.633979Z"
        },
        "trusted": true
      },
      "source": [
        "def generator_model():\n",
        "    model=Sequential()\n",
        "    model.add(Dense(7*7*256,input_shape=(100,)))\n",
        "    model.add(BatchNormalization())\n",
        "    model.add(LeakyReLU(0.2))\n",
        "    model.add(Reshape((7, 7, 256)))\n",
        "\n",
        "    model.add(Conv2DTranspose(128, (3, 3), strides=(1, 1), padding='same'))\n",
        "\n",
        "    model.add(BatchNormalization())\n",
        "    model.add(LeakyReLU(0.2))\n",
        "\n",
        "    model.add(Conv2DTranspose(64, (3, 3), strides=(2, 2), padding='same'))\n",
        "    model.add(BatchNormalization())\n",
        "    model.add(LeakyReLU(0.2))\n",
        "\n",
        "    model.add(Conv2DTranspose(1, (3, 3), strides=(2, 2), padding='same', activation='tanh'))\n",
        "    return model\n"
      ],
      "execution_count": null,
      "outputs": []
    },
    {
      "cell_type": "code",
      "metadata": {
        "id": "ayuZ4TXm6_l0",
        "execution": {
          "iopub.status.busy": "2021-10-24T06:08:58.391824Z",
          "iopub.execute_input": "2021-10-24T06:08:58.392133Z",
          "iopub.status.idle": "2021-10-24T06:08:58.758105Z",
          "shell.execute_reply.started": "2021-10-24T06:08:58.392103Z",
          "shell.execute_reply": "2021-10-24T06:08:58.757117Z"
        },
        "trusted": true
      },
      "source": [
        "generator = generator_model()\n",
        "\n",
        "noise = tf.random.normal([1, 100])\n",
        "generated_image = generator(noise, training=False)\n",
        "\n",
        "plt.imshow(generated_image[0, :, :, 0], cmap='gray')"
      ],
      "execution_count": null,
      "outputs": []
    },
    {
      "cell_type": "code",
      "metadata": {
        "id": "fGfCynXtcMpQ",
        "execution": {
          "iopub.status.busy": "2021-10-24T06:09:01.112441Z",
          "iopub.execute_input": "2021-10-24T06:09:01.113126Z",
          "iopub.status.idle": "2021-10-24T06:09:01.130096Z",
          "shell.execute_reply.started": "2021-10-24T06:09:01.113090Z",
          "shell.execute_reply": "2021-10-24T06:09:01.129177Z"
        }
      },
      "source": [
        "generator.summary()"
      ],
      "execution_count": null,
      "outputs": []
    },
    {
      "cell_type": "code",
      "metadata": {
        "id": "GnPpw2tWklnj"
      },
      "source": [
        ""
      ],
      "execution_count": null,
      "outputs": []
    },
    {
      "cell_type": "markdown",
      "metadata": {
        "id": "MHfa2la4klnk"
      },
      "source": [
        "## Building discriminator"
      ]
    },
    {
      "cell_type": "code",
      "metadata": {
        "id": "qwBulaUDbft5",
        "execution": {
          "iopub.status.busy": "2021-10-24T06:09:37.754333Z",
          "iopub.execute_input": "2021-10-24T06:09:37.754655Z",
          "iopub.status.idle": "2021-10-24T06:09:37.764711Z",
          "shell.execute_reply.started": "2021-10-24T06:09:37.754622Z",
          "shell.execute_reply": "2021-10-24T06:09:37.763092Z"
        },
        "trusted": true
      },
      "source": [
        "def discriminator_model():\n",
        "    model = Sequential()\n",
        "    model.add(Conv2D(32, (3, 3), strides=(2, 2), padding='same',\n",
        "                                    input_shape=[28, 28, 1]))\n",
        "    model.add(LeakyReLU())\n",
        "    model.add(Dropout(0.3))\n",
        "\n",
        "    model.add(Conv2D(64, (3, 3), strides=(2, 2), padding='same'))\n",
        "    model.add(LeakyReLU())\n",
        "    model.add(Dropout(0.3))\n",
        "\n",
        "    model.add(Conv2D(128, (3, 3), strides=(2, 2), padding='same'))\n",
        "    model.add(LeakyReLU())\n",
        "    model.add(Dropout(0.3))\n",
        "\n",
        "    model.add(Flatten())\n",
        "    model.add(Dense(1))\n",
        "\n",
        "    return model"
      ],
      "execution_count": null,
      "outputs": []
    },
    {
      "cell_type": "code",
      "metadata": {
        "id": "Hzdc-rYgbf2Y",
        "execution": {
          "iopub.status.busy": "2021-10-24T06:09:47.118710Z",
          "iopub.execute_input": "2021-10-24T06:09:47.119045Z",
          "iopub.status.idle": "2021-10-24T06:09:47.255248Z",
          "shell.execute_reply.started": "2021-10-24T06:09:47.119003Z",
          "shell.execute_reply": "2021-10-24T06:09:47.253691Z"
        },
        "trusted": true
      },
      "source": [
        "discriminator = discriminator_model()\n",
        "decision = discriminator(generated_image)\n",
        "print (decision)"
      ],
      "execution_count": null,
      "outputs": []
    },
    {
      "cell_type": "code",
      "metadata": {
        "id": "wQTrmuE6bgBh",
        "execution": {
          "iopub.status.busy": "2021-10-24T06:10:29.326443Z",
          "iopub.execute_input": "2021-10-24T06:10:29.327172Z",
          "iopub.status.idle": "2021-10-24T06:10:29.343476Z",
          "shell.execute_reply.started": "2021-10-24T06:10:29.327129Z",
          "shell.execute_reply": "2021-10-24T06:10:29.342267Z"
        },
        "trusted": true
      },
      "source": [
        "discriminator.summary()"
      ],
      "execution_count": null,
      "outputs": []
    },
    {
      "cell_type": "code",
      "metadata": {
        "id": "HlQOm5Ky6_oV"
      },
      "source": [
        ""
      ],
      "execution_count": null,
      "outputs": []
    },
    {
      "cell_type": "markdown",
      "metadata": {
        "id": "PhMBY5zyklnu"
      },
      "source": [
        "## Importing loss from tensorflow"
      ]
    },
    {
      "cell_type": "code",
      "metadata": {
        "id": "cEJgswdOdQ_p",
        "execution": {
          "iopub.status.busy": "2021-10-24T06:10:41.109478Z",
          "iopub.execute_input": "2021-10-24T06:10:41.110177Z",
          "iopub.status.idle": "2021-10-24T06:10:41.116494Z",
          "shell.execute_reply.started": "2021-10-24T06:10:41.110136Z",
          "shell.execute_reply": "2021-10-24T06:10:41.115260Z"
        },
        "trusted": true
      },
      "source": [
        "from tensorflow.keras.losses import BinaryCrossentropy\n",
        "cross_entropy = BinaryCrossentropy(from_logits=True)"
      ],
      "execution_count": null,
      "outputs": []
    },
    {
      "cell_type": "markdown",
      "metadata": {
        "id": "sMyZWXL8klnx"
      },
      "source": [
        "## Discriminator loss"
      ]
    },
    {
      "cell_type": "code",
      "metadata": {
        "id": "Z6cGpDZBdRCu",
        "execution": {
          "iopub.status.busy": "2021-10-24T06:10:43.337558Z",
          "iopub.execute_input": "2021-10-24T06:10:43.338265Z",
          "iopub.status.idle": "2021-10-24T06:10:43.344129Z",
          "shell.execute_reply.started": "2021-10-24T06:10:43.338226Z",
          "shell.execute_reply": "2021-10-24T06:10:43.342875Z"
        },
        "trusted": true
      },
      "source": [
        "def discriminator_loss(real_output, fake_output):\n",
        "    real_loss = cross_entropy(tf.ones_like(real_output), real_output)\n",
        "    fake_loss = cross_entropy(tf.zeros_like(fake_output), fake_output)\n",
        "    total_loss = real_loss + fake_loss\n",
        "    return total_loss"
      ],
      "execution_count": null,
      "outputs": []
    },
    {
      "cell_type": "markdown",
      "metadata": {
        "id": "MKjk1Eb9klnz"
      },
      "source": [
        "## Generator Loss"
      ]
    },
    {
      "cell_type": "code",
      "metadata": {
        "id": "2FUWJlbjdRGB",
        "execution": {
          "iopub.status.busy": "2021-10-24T06:10:48.488339Z",
          "iopub.execute_input": "2021-10-24T06:10:48.488970Z",
          "iopub.status.idle": "2021-10-24T06:10:48.495183Z",
          "shell.execute_reply.started": "2021-10-24T06:10:48.488936Z",
          "shell.execute_reply": "2021-10-24T06:10:48.492872Z"
        },
        "trusted": true
      },
      "source": [
        "def generator_loss(fake_output):\n",
        "    return cross_entropy(tf.ones_like(fake_output), fake_output)"
      ],
      "execution_count": null,
      "outputs": []
    },
    {
      "cell_type": "markdown",
      "metadata": {
        "id": "INIKeYBdkln1"
      },
      "source": [
        "## Defining the optimizer"
      ]
    },
    {
      "cell_type": "code",
      "metadata": {
        "id": "OJajPIohdRN8",
        "execution": {
          "iopub.status.busy": "2021-10-24T06:10:50.844996Z",
          "iopub.execute_input": "2021-10-24T06:10:50.845331Z",
          "iopub.status.idle": "2021-10-24T06:10:50.852388Z",
          "shell.execute_reply.started": "2021-10-24T06:10:50.845286Z",
          "shell.execute_reply": "2021-10-24T06:10:50.851382Z"
        },
        "trusted": true
      },
      "source": [
        "from tensorflow.keras.optimizers import Adam\n",
        "generator_optimizer = Adam(1e-4)\n",
        "discriminator_optimizer = Adam(1e-4)"
      ],
      "execution_count": null,
      "outputs": []
    },
    {
      "cell_type": "code",
      "metadata": {
        "id": "sr7HXKQjdkB8",
        "execution": {
          "iopub.status.busy": "2021-10-24T06:11:22.674687Z",
          "iopub.execute_input": "2021-10-24T06:11:22.674952Z",
          "iopub.status.idle": "2021-10-24T06:11:22.681973Z",
          "shell.execute_reply.started": "2021-10-24T06:11:22.674924Z",
          "shell.execute_reply": "2021-10-24T06:11:22.680392Z"
        },
        "trusted": true
      },
      "source": [
        "EPOCHS = 400\n",
        "noise_dim = 100\n",
        "num_examples_to_generate = 16\n",
        "BATCH_SIZE = 300\n",
        "# We will reuse this seed overtime (so it's easier)\n",
        "# to visualize progress in the animated GIF)\n",
        "seed = tf.random.normal([num_examples_to_generate, noise_dim])"
      ],
      "execution_count": null,
      "outputs": []
    },
    {
      "cell_type": "markdown",
      "metadata": {
        "id": "JDtpb8T-kln3"
      },
      "source": [
        "## Train Function"
      ]
    },
    {
      "cell_type": "code",
      "metadata": {
        "id": "UVkCl4D6dkHI",
        "execution": {
          "iopub.status.busy": "2021-10-24T06:11:29.211800Z",
          "iopub.execute_input": "2021-10-24T06:11:29.212630Z",
          "iopub.status.idle": "2021-10-24T06:11:29.221462Z",
          "shell.execute_reply.started": "2021-10-24T06:11:29.212544Z",
          "shell.execute_reply": "2021-10-24T06:11:29.220141Z"
        },
        "trusted": true
      },
      "source": [
        "# Notice the use of `tf.function`\n",
        "# This annotation causes the function to be \"compiled\".\n",
        "@tf.function\n",
        "def train_step(images):\n",
        "    noise = tf.random.normal([BATCH_SIZE, noise_dim])\n",
        "\n",
        "    with tf.GradientTape() as gen_tape, tf.GradientTape() as disc_tape:\n",
        "      generated_images = generator(noise, training=True)\n",
        "\n",
        "      real_output = discriminator(images, training=True)\n",
        "      fake_output = discriminator(generated_images, training=True)\n",
        "\n",
        "      gen_loss = generator_loss(fake_output)\n",
        "      disc_loss = discriminator_loss(real_output, fake_output)\n",
        "\n",
        "    gradients_of_generator = gen_tape.gradient(gen_loss, generator.trainable_variables)\n",
        "    gradients_of_discriminator = disc_tape.gradient(disc_loss, discriminator.trainable_variables)\n",
        "\n",
        "    generator_optimizer.apply_gradients(zip(gradients_of_generator, generator.trainable_variables))\n",
        "    discriminator_optimizer.apply_gradients(zip(gradients_of_discriminator, discriminator.trainable_variables))"
      ],
      "execution_count": null,
      "outputs": []
    },
    {
      "cell_type": "code",
      "metadata": {
        "id": "lwqZ-A6JdkTn",
        "execution": {
          "iopub.status.busy": "2021-10-24T06:11:35.698522Z",
          "iopub.execute_input": "2021-10-24T06:11:35.699243Z",
          "iopub.status.idle": "2021-10-24T06:11:35.711529Z",
          "shell.execute_reply.started": "2021-10-24T06:11:35.699206Z",
          "shell.execute_reply": "2021-10-24T06:11:35.707774Z"
        },
        "trusted": true
      },
      "source": [
        "\n",
        "def train(dataset, epochs):\n",
        "  for epoch in range(epochs):\n",
        "    start = time.time()\n",
        "\n",
        "    for image_batch in dataset:\n",
        "      train_step(image_batch)\n",
        "\n",
        "    # Produce images for the GIF as we go\n",
        "    display.clear_output(wait=True)\n",
        "    generate_and_save_images(generator,\n",
        "                             epoch + 1,\n",
        "                             seed)\n",
        "\n",
        "    # Save the model every 15 epochs\n",
        "    #if (epoch + 1) % 15 == 0:\n",
        "      #checkpoint.save(file_prefix = checkpoint_prefix)\n",
        "\n",
        "    print ('Time for epoch {} is {} sec'.format(epoch + 1, time.time()-start))\n",
        "\n",
        "  # Generate after the final epoch\n",
        "  display.clear_output(wait=True)\n",
        "  generate_and_save_images(generator,\n",
        "                           epochs,\n",
        "                           seed)"
      ],
      "execution_count": null,
      "outputs": []
    },
    {
      "cell_type": "code",
      "metadata": {
        "id": "A7nNvEciffv7",
        "execution": {
          "iopub.status.busy": "2021-10-24T06:11:43.031394Z",
          "iopub.execute_input": "2021-10-24T06:11:43.031691Z",
          "iopub.status.idle": "2021-10-24T06:11:43.038313Z",
          "shell.execute_reply.started": "2021-10-24T06:11:43.031660Z",
          "shell.execute_reply": "2021-10-24T06:11:43.037354Z"
        },
        "trusted": true
      },
      "source": [
        "def generate_and_save_images(model, epoch, test_input):\n",
        "  # Notice `training` is set to False.\n",
        "  # This is so all layers run in inference mode (batchnorm).\n",
        "  predictions = model(test_input, training=False)\n",
        "\n",
        "  fig = plt.figure(figsize=(4,4))\n",
        "\n",
        "  for i in range(predictions.shape[0]):\n",
        "      plt.subplot(4, 4, i+1)\n",
        "      plt.imshow(predictions[i, :, :, 0] * 127.5 + 127.5, cmap='gray')\n",
        "      plt.axis('off')\n",
        "\n",
        "  plt.savefig('image_at_epoch_{:04d}.png'.format(epoch))\n",
        "  plt.show()"
      ],
      "execution_count": null,
      "outputs": []
    },
    {
      "cell_type": "code",
      "metadata": {
        "id": "ck2vD9Rsff3e",
        "execution": {
          "iopub.status.busy": "2021-10-24T06:11:45.531375Z",
          "iopub.execute_input": "2021-10-24T06:11:45.531758Z",
          "iopub.status.idle": "2021-10-24T06:41:23.449990Z",
          "shell.execute_reply.started": "2021-10-24T06:11:45.531722Z",
          "shell.execute_reply": "2021-10-24T06:41:23.448935Z"
        },
        "trusted": true
      },
      "source": [
        "train(x_train, EPOCHS)"
      ],
      "execution_count": null,
      "outputs": []
    },
    {
      "cell_type": "code",
      "metadata": {
        "id": "pBzvc6RKfgE-",
        "execution": {
          "iopub.status.busy": "2021-10-24T06:44:24.210699Z",
          "iopub.execute_input": "2021-10-24T06:44:24.211036Z",
          "iopub.status.idle": "2021-10-24T06:44:24.446516Z",
          "shell.execute_reply.started": "2021-10-24T06:44:24.211001Z",
          "shell.execute_reply": "2021-10-24T06:44:24.445479Z"
        },
        "trusted": true
      },
      "source": [
        "%pylab inline\n",
        "import matplotlib.pyplot as plt\n",
        "import matplotlib.image as mpimg\n",
        "img=mpimg.imread('/kaggle/working/image_at_epoch_0100.png')\n",
        "imgplot = plt.imshow(img)\n",
        "plt.show()"
      ],
      "execution_count": null,
      "outputs": []
    },
    {
      "cell_type": "code",
      "metadata": {
        "id": "T0f6P4BCNHW5",
        "execution": {
          "iopub.status.busy": "2021-10-24T06:44:51.573551Z",
          "iopub.execute_input": "2021-10-24T06:44:51.573999Z",
          "iopub.status.idle": "2021-10-24T06:44:51.938941Z",
          "shell.execute_reply.started": "2021-10-24T06:44:51.573949Z",
          "shell.execute_reply": "2021-10-24T06:44:51.937811Z"
        },
        "trusted": true
      },
      "source": [
        "%pylab inline\n",
        "import matplotlib.pyplot as plt\n",
        "import matplotlib.image as mpimg\n",
        "img=mpimg.imread('/kaggle/working/image_at_epoch_0200.png')\n",
        "imgplot = plt.imshow(img)\n",
        "plt.show()"
      ],
      "execution_count": null,
      "outputs": []
    },
    {
      "cell_type": "code",
      "metadata": {
        "id": "Gp8v7XpJNNIA",
        "execution": {
          "iopub.status.busy": "2021-10-24T06:45:09.287399Z",
          "iopub.execute_input": "2021-10-24T06:45:09.287702Z",
          "iopub.status.idle": "2021-10-24T06:45:09.526582Z",
          "shell.execute_reply.started": "2021-10-24T06:45:09.287670Z",
          "shell.execute_reply": "2021-10-24T06:45:09.525529Z"
        },
        "trusted": true
      },
      "source": [
        "%pylab inline\n",
        "import matplotlib.pyplot as plt\n",
        "import matplotlib.image as mpimg\n",
        "img=mpimg.imread('/kaggle/working/image_at_epoch_0250.png')\n",
        "imgplot = plt.imshow(img)\n",
        "plt.show()"
      ],
      "execution_count": null,
      "outputs": []
    },
    {
      "cell_type": "code",
      "metadata": {
        "execution": {
          "iopub.status.busy": "2021-10-24T06:45:28.083611Z",
          "iopub.execute_input": "2021-10-24T06:45:28.083944Z",
          "iopub.status.idle": "2021-10-24T06:45:28.321779Z",
          "shell.execute_reply.started": "2021-10-24T06:45:28.083912Z",
          "shell.execute_reply": "2021-10-24T06:45:28.320783Z"
        },
        "trusted": true,
        "id": "ZRzYXQsLkloA"
      },
      "source": [
        "%pylab inline\n",
        "import matplotlib.pyplot as plt\n",
        "import matplotlib.image as mpimg\n",
        "img=mpimg.imread('/kaggle/working/image_at_epoch_0400.png')\n",
        "imgplot = plt.imshow(img)\n",
        "plt.show()"
      ],
      "execution_count": null,
      "outputs": []
    },
    {
      "cell_type": "markdown",
      "metadata": {
        "id": "B7dyyt_dNSvc"
      },
      "source": [
        "## Summary\n",
        "\n",
        "* Initially all the libraries that are required for the given task should be imported.\n",
        "* Download the MNIST dataset and preprocess it.\n",
        "* Now create the generator and discriminator model.\n",
        "* Generator model is the one which produces the fake images and tries to fool the discriminator by the fake images it produced. The discriminator on the other end tries to identify the fake images which are produced by the generator.\n",
        "* First we need to create the generator model that produces the fake images. We give a random generated input to the generator where it uses the Conv2D transpose layers to produce the images. The upsampling of the image continues until we reach the desired shape.\n",
        "* Discriminator model is usually trained to classify the images as real or fake i.e., for binary classification. The images from the dataset are marked as real and the images from the generator are marked as fake.\n",
        "* Discriminator loss depends on how far it is able to distinguish the real images from the fake images.\n",
        "* The generator loss depends on how far it is able to trick the discriminator.\n",
        "* When the training starts we give the image predicted from the the generator to the discriminator along with the real images and the discriminator should predict whether it is real or fake. The weights are then updated in the generator and discriminator based on the loss.\n",
        "* This process continue still the generator is able to fool the discriminator.\n",
        "* From the plots we can see that our generator is gradually improving.\n",
        "* We can stop this process when the images are similar to our train images.\n",
        "\n"
      ]
    }
  ]
}