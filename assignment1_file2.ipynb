{
  "nbformat": 4,
  "nbformat_minor": 0,
  "metadata": {
    "colab": {
      "name": "file2.ipynb",
      "provenance": []
    },
    "kernelspec": {
      "name": "python3",
      "display_name": "Python 3"
    },
    "language_info": {
      "name": "python"
    },
    "accelerator": "GPU"
  },
  "cells": [
    {
      "cell_type": "markdown",
      "metadata": {
        "id": "d9BiDVdnbfnZ"
      },
      "source": [
        "## Importing the libraries"
      ]
    },
    {
      "cell_type": "code",
      "metadata": {
        "id": "lYbCQDo9bQpj"
      },
      "source": [
        "import tensorflow as tf\n",
        "from tensorflow import keras\n",
        "from keras.layers import Dense, Dropout, Flatten, Conv2D,MaxPool2D\n",
        "from tensorflow.keras import Sequential\n",
        "from tensorflow.keras.callbacks import EarlyStopping, ReduceLROnPlateau, LearningRateScheduler\n",
        "from tensorflow.keras.preprocessing.image import ImageDataGenerator"
      ],
      "execution_count": 1,
      "outputs": []
    },
    {
      "cell_type": "markdown",
      "metadata": {
        "id": "iXrYKMd7fXt5"
      },
      "source": [
        "## Classifying MNIST using Multi layer perceptron"
      ]
    },
    {
      "cell_type": "markdown",
      "metadata": {
        "id": "ZuZ6JZ4TbzGq"
      },
      "source": [
        "### Loading the dataset"
      ]
    },
    {
      "cell_type": "code",
      "metadata": {
        "id": "cDwpMHleb79y"
      },
      "source": [
        "(x_train, y_train), (x_test, y_test) = keras.datasets.mnist.load_data()"
      ],
      "execution_count": 2,
      "outputs": []
    },
    {
      "cell_type": "markdown",
      "metadata": {
        "id": "fYt8QqREcqhQ"
      },
      "source": [
        "### Preprocessing the dataset"
      ]
    },
    {
      "cell_type": "code",
      "metadata": {
        "id": "mduGuU_TcIdi"
      },
      "source": [
        "x_train = x_train.reshape(x_train.shape[0],x_train.shape[1]*x_train.shape[2]).astype('float32')\n",
        "x_test = x_test.reshape(x_test.shape[0],x_test.shape[1]*x_test.shape[2]).astype('float32')\n",
        "## Scalin the data\n",
        "x_train/=255\n",
        "x_test/=255"
      ],
      "execution_count": 3,
      "outputs": []
    },
    {
      "cell_type": "code",
      "metadata": {
        "id": "HR11sqZEcpXO"
      },
      "source": [
        "y_train = tf.keras.utils.to_categorical(y_train, 10) \n",
        "y_test = tf.keras.utils.to_categorical(y_test, 10)"
      ],
      "execution_count": 4,
      "outputs": []
    },
    {
      "cell_type": "markdown",
      "metadata": {
        "id": "qNA-z8Gqc9gE"
      },
      "source": [
        "## Building the model"
      ]
    },
    {
      "cell_type": "code",
      "metadata": {
        "id": "dhxxMQeYdAl7"
      },
      "source": [
        "#Most common type of model is a stack of layers\n",
        "tf.random.set_seed(42)\n",
        "model = tf.keras.Sequential()\n",
        "model.add(Dense(256, name='dense_layer', input_shape=(784,), activation = 'relu'))\n",
        "model.add(Dropout(0.3))\n",
        "model.add(Dense(128, name='dense_layer_2', activation='relu'))\n",
        "model.add(Dropout(0.3))\n",
        "model.add(Dense(128, name='dense_layer_3', activation='relu'))\n",
        "model.add(Dropout(0.2))\n",
        "model.add(Dense(10, name='dense_layer_4', activation = 'softmax'))\n"
      ],
      "execution_count": 5,
      "outputs": []
    },
    {
      "cell_type": "code",
      "metadata": {
        "colab": {
          "base_uri": "https://localhost:8080/"
        },
        "id": "YcY2_LPQe0HO",
        "outputId": "8d164a42-c948-4a70-f39c-60b2506317f7"
      },
      "source": [
        "model.summary()"
      ],
      "execution_count": 6,
      "outputs": [
        {
          "output_type": "stream",
          "name": "stdout",
          "text": [
            "Model: \"sequential\"\n",
            "_________________________________________________________________\n",
            "Layer (type)                 Output Shape              Param #   \n",
            "=================================================================\n",
            "dense_layer (Dense)          (None, 256)               200960    \n",
            "_________________________________________________________________\n",
            "dropout (Dropout)            (None, 256)               0         \n",
            "_________________________________________________________________\n",
            "dense_layer_2 (Dense)        (None, 128)               32896     \n",
            "_________________________________________________________________\n",
            "dropout_1 (Dropout)          (None, 128)               0         \n",
            "_________________________________________________________________\n",
            "dense_layer_3 (Dense)        (None, 128)               16512     \n",
            "_________________________________________________________________\n",
            "dropout_2 (Dropout)          (None, 128)               0         \n",
            "_________________________________________________________________\n",
            "dense_layer_4 (Dense)        (None, 10)                1290      \n",
            "=================================================================\n",
            "Total params: 251,658\n",
            "Trainable params: 251,658\n",
            "Non-trainable params: 0\n",
            "_________________________________________________________________\n"
          ]
        }
      ]
    },
    {
      "cell_type": "code",
      "metadata": {
        "id": "blKFm0sKdAty"
      },
      "source": [
        "model.compile(optimizer='Adam',loss='categorical_crossentropy',metrics=['accuracy'])"
      ],
      "execution_count": 7,
      "outputs": []
    },
    {
      "cell_type": "code",
      "metadata": {
        "id": "lLcp-HKyg7oo"
      },
      "source": [
        "def scheduler(epoch, lr):\n",
        "  if epoch < 10:\n",
        "    return lr\n",
        "  else:\n",
        "    return lr * tf.math.exp(-0.1)"
      ],
      "execution_count": 8,
      "outputs": []
    },
    {
      "cell_type": "code",
      "metadata": {
        "colab": {
          "base_uri": "https://localhost:8080/"
        },
        "id": "r50FtvBAdBTG",
        "outputId": "809b74eb-8f60-4d9f-9b52-67c65e2edfac"
      },
      "source": [
        "# reduce_lr = ReduceLROnPlateau(monitor='loss', factor=0.2,\n",
        "#                               patience=5, min_lr=0.001)\n",
        "lr_scheduler = tf.keras.callbacks.LearningRateScheduler(scheduler)\n",
        "\n",
        "early_stopping = tf.keras.callbacks.EarlyStopping(monitor='loss', patience=5)\n",
        "history=model.fit(x_train, y_train, callbacks=[lr_scheduler,early_stopping],validation_split=0.2, epochs=40)"
      ],
      "execution_count": 9,
      "outputs": [
        {
          "output_type": "stream",
          "name": "stdout",
          "text": [
            "Epoch 1/40\n",
            "1500/1500 [==============================] - 7s 4ms/step - loss: 0.3763 - accuracy: 0.8861 - val_loss: 0.1438 - val_accuracy: 0.9558\n",
            "Epoch 2/40\n",
            "1500/1500 [==============================] - 6s 4ms/step - loss: 0.1751 - accuracy: 0.9485 - val_loss: 0.1141 - val_accuracy: 0.9672\n",
            "Epoch 3/40\n",
            "1500/1500 [==============================] - 6s 4ms/step - loss: 0.1411 - accuracy: 0.9597 - val_loss: 0.1076 - val_accuracy: 0.9694\n",
            "Epoch 4/40\n",
            "1500/1500 [==============================] - 7s 4ms/step - loss: 0.1214 - accuracy: 0.9646 - val_loss: 0.1003 - val_accuracy: 0.9717\n",
            "Epoch 5/40\n",
            "1500/1500 [==============================] - 6s 4ms/step - loss: 0.1067 - accuracy: 0.9696 - val_loss: 0.0876 - val_accuracy: 0.9736\n",
            "Epoch 6/40\n",
            "1500/1500 [==============================] - 6s 4ms/step - loss: 0.0945 - accuracy: 0.9714 - val_loss: 0.0969 - val_accuracy: 0.9725\n",
            "Epoch 7/40\n",
            "1500/1500 [==============================] - 6s 4ms/step - loss: 0.0874 - accuracy: 0.9739 - val_loss: 0.0790 - val_accuracy: 0.9773\n",
            "Epoch 8/40\n",
            "1500/1500 [==============================] - 6s 4ms/step - loss: 0.0807 - accuracy: 0.9755 - val_loss: 0.0872 - val_accuracy: 0.9757\n",
            "Epoch 9/40\n",
            "1500/1500 [==============================] - 6s 4ms/step - loss: 0.0763 - accuracy: 0.9774 - val_loss: 0.0852 - val_accuracy: 0.9755\n",
            "Epoch 10/40\n",
            "1500/1500 [==============================] - 6s 4ms/step - loss: 0.0714 - accuracy: 0.9781 - val_loss: 0.0914 - val_accuracy: 0.9760\n",
            "Epoch 11/40\n",
            "1500/1500 [==============================] - 6s 4ms/step - loss: 0.0634 - accuracy: 0.9804 - val_loss: 0.0775 - val_accuracy: 0.9799\n",
            "Epoch 12/40\n",
            "1500/1500 [==============================] - 6s 4ms/step - loss: 0.0546 - accuracy: 0.9836 - val_loss: 0.0814 - val_accuracy: 0.9786\n",
            "Epoch 13/40\n",
            "1500/1500 [==============================] - 6s 4ms/step - loss: 0.0502 - accuracy: 0.9840 - val_loss: 0.0796 - val_accuracy: 0.9787\n",
            "Epoch 14/40\n",
            "1500/1500 [==============================] - 6s 4ms/step - loss: 0.0433 - accuracy: 0.9864 - val_loss: 0.0837 - val_accuracy: 0.9793\n",
            "Epoch 15/40\n",
            "1500/1500 [==============================] - 6s 4ms/step - loss: 0.0404 - accuracy: 0.9873 - val_loss: 0.0877 - val_accuracy: 0.9796\n",
            "Epoch 16/40\n",
            "1500/1500 [==============================] - 6s 4ms/step - loss: 0.0373 - accuracy: 0.9882 - val_loss: 0.0809 - val_accuracy: 0.9813\n",
            "Epoch 17/40\n",
            "1500/1500 [==============================] - 6s 4ms/step - loss: 0.0315 - accuracy: 0.9904 - val_loss: 0.0836 - val_accuracy: 0.9815\n",
            "Epoch 18/40\n",
            "1500/1500 [==============================] - 6s 4ms/step - loss: 0.0282 - accuracy: 0.9911 - val_loss: 0.0880 - val_accuracy: 0.9812\n",
            "Epoch 19/40\n",
            "1500/1500 [==============================] - 6s 4ms/step - loss: 0.0257 - accuracy: 0.9916 - val_loss: 0.0874 - val_accuracy: 0.9818\n",
            "Epoch 20/40\n",
            "1500/1500 [==============================] - 6s 4ms/step - loss: 0.0245 - accuracy: 0.9920 - val_loss: 0.0849 - val_accuracy: 0.9818\n",
            "Epoch 21/40\n",
            "1500/1500 [==============================] - 6s 4ms/step - loss: 0.0230 - accuracy: 0.9928 - val_loss: 0.0924 - val_accuracy: 0.9812\n",
            "Epoch 22/40\n",
            "1500/1500 [==============================] - 6s 4ms/step - loss: 0.0203 - accuracy: 0.9937 - val_loss: 0.0936 - val_accuracy: 0.9814\n",
            "Epoch 23/40\n",
            "1500/1500 [==============================] - 6s 4ms/step - loss: 0.0179 - accuracy: 0.9941 - val_loss: 0.0945 - val_accuracy: 0.9822\n",
            "Epoch 24/40\n",
            "1500/1500 [==============================] - 6s 4ms/step - loss: 0.0181 - accuracy: 0.9941 - val_loss: 0.0955 - val_accuracy: 0.9812\n",
            "Epoch 25/40\n",
            "1500/1500 [==============================] - 6s 4ms/step - loss: 0.0158 - accuracy: 0.9952 - val_loss: 0.0949 - val_accuracy: 0.9814\n",
            "Epoch 26/40\n",
            "1500/1500 [==============================] - 6s 4ms/step - loss: 0.0165 - accuracy: 0.9949 - val_loss: 0.0921 - val_accuracy: 0.9818\n",
            "Epoch 27/40\n",
            "1500/1500 [==============================] - 6s 4ms/step - loss: 0.0143 - accuracy: 0.9956 - val_loss: 0.0942 - val_accuracy: 0.9823\n",
            "Epoch 28/40\n",
            "1500/1500 [==============================] - 6s 4ms/step - loss: 0.0142 - accuracy: 0.9958 - val_loss: 0.0947 - val_accuracy: 0.9817\n",
            "Epoch 29/40\n",
            "1500/1500 [==============================] - 7s 4ms/step - loss: 0.0120 - accuracy: 0.9958 - val_loss: 0.0949 - val_accuracy: 0.9821\n",
            "Epoch 30/40\n",
            "1500/1500 [==============================] - 6s 4ms/step - loss: 0.0132 - accuracy: 0.9962 - val_loss: 0.0953 - val_accuracy: 0.9823\n",
            "Epoch 31/40\n",
            "1500/1500 [==============================] - 6s 4ms/step - loss: 0.0123 - accuracy: 0.9961 - val_loss: 0.0981 - val_accuracy: 0.9817\n",
            "Epoch 32/40\n",
            "1500/1500 [==============================] - 6s 4ms/step - loss: 0.0107 - accuracy: 0.9965 - val_loss: 0.0990 - val_accuracy: 0.9817\n",
            "Epoch 33/40\n",
            "1500/1500 [==============================] - 6s 4ms/step - loss: 0.0108 - accuracy: 0.9966 - val_loss: 0.0989 - val_accuracy: 0.9822\n",
            "Epoch 34/40\n",
            "1500/1500 [==============================] - 6s 4ms/step - loss: 0.0097 - accuracy: 0.9967 - val_loss: 0.0974 - val_accuracy: 0.9822\n",
            "Epoch 35/40\n",
            "1500/1500 [==============================] - 6s 4ms/step - loss: 0.0117 - accuracy: 0.9965 - val_loss: 0.1007 - val_accuracy: 0.9824\n",
            "Epoch 36/40\n",
            "1500/1500 [==============================] - 6s 4ms/step - loss: 0.0086 - accuracy: 0.9975 - val_loss: 0.1021 - val_accuracy: 0.9831\n",
            "Epoch 37/40\n",
            "1500/1500 [==============================] - 6s 4ms/step - loss: 0.0092 - accuracy: 0.9972 - val_loss: 0.1033 - val_accuracy: 0.9827\n",
            "Epoch 38/40\n",
            "1500/1500 [==============================] - 6s 4ms/step - loss: 0.0098 - accuracy: 0.9969 - val_loss: 0.1031 - val_accuracy: 0.9824\n",
            "Epoch 39/40\n",
            "1500/1500 [==============================] - 6s 4ms/step - loss: 0.0096 - accuracy: 0.9970 - val_loss: 0.1025 - val_accuracy: 0.9822\n",
            "Epoch 40/40\n",
            "1500/1500 [==============================] - 6s 4ms/step - loss: 0.0096 - accuracy: 0.9972 - val_loss: 0.1010 - val_accuracy: 0.9823\n"
          ]
        }
      ]
    },
    {
      "cell_type": "code",
      "metadata": {
        "colab": {
          "base_uri": "https://localhost:8080/",
          "height": 590
        },
        "id": "xGFK_gCvgYmD",
        "outputId": "6d157343-0d45-4ac8-f87c-2ab4bb75ff23"
      },
      "source": [
        "import matplotlib.pyplot as plt\n",
        "%matplotlib inline\n",
        "# list all data in training\n",
        "print(history.history.keys())\n",
        "# summarize training for accuracy\n",
        "plt.plot(history.history['accuracy'])\n",
        "plt.plot(history.history['val_accuracy'])\n",
        "plt.title('model accuracy')\n",
        "plt.ylabel('accuracy')\n",
        "plt.xlabel('epoch')\n",
        "plt.legend(['train', 'test'], loc='upper left')\n",
        "plt.show()\n",
        "# summarize traning for loss\n",
        "plt.plot(history.history['loss'])\n",
        "plt.plot(history.history['val_loss'])\n",
        "plt.title('model loss')\n",
        "plt.ylabel('loss')\n",
        "plt.xlabel('epoch')\n",
        "plt.legend(['train', 'test'], loc='upper left')\n",
        "plt.show()"
      ],
      "execution_count": 10,
      "outputs": [
        {
          "output_type": "stream",
          "name": "stdout",
          "text": [
            "dict_keys(['loss', 'accuracy', 'val_loss', 'val_accuracy', 'lr'])\n"
          ]
        },
        {
          "output_type": "display_data",
          "data": {
            "image/png": "[encoded data removed]",
            "text/plain": [
              "<Figure size 432x288 with 1 Axes>"
            ]
          },
          "metadata": {
            "needs_background": "light"
          }
        },
        {
          "output_type": "display_data",
          "data": {
            "image/png": "[encoded data removed]",
            "text/plain": [
              "<Figure size 432x288 with 1 Axes>"
            ]
          },
          "metadata": {
            "needs_background": "light"
          }
        }
      ]
    },
    {
      "cell_type": "code",
      "metadata": {
        "colab": {
          "base_uri": "https://localhost:8080/"
        },
        "id": "1b2ytktNgY0s",
        "outputId": "ac0027ac-fd40-478f-9edf-442313c271a1"
      },
      "source": [
        "model.evaluate(x_test,y_test)"
      ],
      "execution_count": 11,
      "outputs": [
        {
          "output_type": "stream",
          "name": "stdout",
          "text": [
            "313/313 [==============================] - 1s 4ms/step - loss: 0.0892 - accuracy: 0.9843\n"
          ]
        },
        {
          "output_type": "execute_result",
          "data": {
            "text/plain": [
              "[0.08923085778951645, 0.9843000173568726]"
            ]
          },
          "metadata": {},
          "execution_count": 11
        }
      ]
    },
    {
      "cell_type": "code",
      "metadata": {
        "id": "EWiKe_QkgZBm"
      },
      "source": [
        ""
      ],
      "execution_count": 11,
      "outputs": []
    },
    {
      "cell_type": "markdown",
      "metadata": {
        "id": "E2oF0UZMfife"
      },
      "source": [
        "## Summary of model working\n",
        "\n",
        "* Import the libraries that are required to perform the task.\n",
        "* Download the MNIST dataset from the keras datasets. \n",
        "* Preprocess the data so that the model can give accurate results.\n",
        "\n",
        "    1.   Reshape all the images to fixed size.\n",
        "    2.   Scale the data which helps to train the model faster and accurate.\n",
        "\n",
        "* The next step is to build the model. I defined three hidden layers which are followed by a Dropout and then an Output layer.\n",
        "\n",
        "* The model is compiled with Adam optimizer which has a default learning rate,the loss is categorical crossentropy because we have 10 classes, accuracy is the metric.\n",
        "\n",
        "* Later I used callbacks such as Early Stopping and LR Scheduler.\n",
        "\n",
        "  ***EarlyStopping :***  We specify a metric based on which the training stops. Here I used loss as my metric which means the training stops if there is no decrease in the loss for next five epochs.\n",
        "\n",
        "  ***LR Scheduler :*** This callback is used to change the learning rate when the specified condition is met.\n",
        "\n",
        "* The final step is to train the model by giving the train dataset and the corresponding labels, epochs, callbacks and the validation split that can be used to verify how our model is performing on unseen dataset.\n",
        "\n",
        "* Evaluate your model on test dataset.\n",
        "\n",
        "\n",
        "\n"
      ]
    },
    {
      "cell_type": "code",
      "metadata": {
        "id": "FnRgZZxDhzPj"
      },
      "source": [
        ""
      ],
      "execution_count": 11,
      "outputs": []
    },
    {
      "cell_type": "markdown",
      "metadata": {
        "id": "j1yIOAcAknpW"
      },
      "source": [
        "## Classifying MNIST using CNN Model"
      ]
    },
    {
      "cell_type": "markdown",
      "metadata": {
        "id": "d0WX7Spinj7K"
      },
      "source": [
        "### Loading the data"
      ]
    },
    {
      "cell_type": "code",
      "metadata": {
        "id": "RfubDKp6kyFZ"
      },
      "source": [
        "(x_train, y_train), (x_test, y_test) = keras.datasets.mnist.load_data()"
      ],
      "execution_count": 12,
      "outputs": []
    },
    {
      "cell_type": "markdown",
      "metadata": {
        "id": "B1q2osk2nolW"
      },
      "source": [
        "### Preprocessing the data"
      ]
    },
    {
      "cell_type": "code",
      "metadata": {
        "id": "bl60tA9PkyQ7"
      },
      "source": [
        "x_train=x_train.astype('float32')/255\n",
        "x_test=x_test.astype('float32')/255\n",
        "x_train=x_train.reshape(-1,28,28,1)\n",
        "x_test=x_test.reshape(-1,28,28,1)"
      ],
      "execution_count": 13,
      "outputs": []
    },
    {
      "cell_type": "code",
      "metadata": {
        "id": "z7SBjNutkyTI"
      },
      "source": [
        "y_train = tf.keras.utils.to_categorical(y_train, 10) \n",
        "y_test = tf.keras.utils.to_categorical(y_test, 10)"
      ],
      "execution_count": 14,
      "outputs": []
    },
    {
      "cell_type": "markdown",
      "metadata": {
        "id": "MLxWHtxfntxn"
      },
      "source": [
        "### ***Building a CNN Model***"
      ]
    },
    {
      "cell_type": "code",
      "metadata": {
        "id": "_VO-GoZwkyWq"
      },
      "source": [
        "tf.random.set_seed(42)\n",
        "\n",
        "model = tf.keras.Sequential()\n",
        "model.add(Conv2D(32, (3, 3), activation='relu',input_shape=(28, 28, 1)))\n",
        "model.add(Conv2D(32, (3, 3), activation='relu'))\n",
        "model.add(MaxPool2D((2, 2)))\n",
        "model.add(Conv2D(64, (3, 3), activation='relu'))\n",
        "model.add(Conv2D(64, (3, 3), activation='relu'))\n",
        "model.add(Flatten())\n",
        "model.add(Dense(256, activation='relu'))\n",
        "model.add(Dropout(0.25))\n",
        "model.add(Dense(32,activation='relu'))\n",
        "model.add(Dense(10,activation='softmax'))"
      ],
      "execution_count": 15,
      "outputs": []
    },
    {
      "cell_type": "markdown",
      "metadata": {
        "id": "PDrHXlfbn47y"
      },
      "source": [
        "### Model Summary"
      ]
    },
    {
      "cell_type": "code",
      "metadata": {
        "colab": {
          "base_uri": "https://localhost:8080/"
        },
        "id": "Kq6k4qm6kyZ7",
        "outputId": "5877be98-1bc5-4e25-fda1-d66bd79cebed"
      },
      "source": [
        "model.summary()"
      ],
      "execution_count": 16,
      "outputs": [
        {
          "output_type": "stream",
          "name": "stdout",
          "text": [
            "Model: \"sequential_1\"\n",
            "_________________________________________________________________\n",
            "Layer (type)                 Output Shape              Param #   \n",
            "=================================================================\n",
            "conv2d (Conv2D)              (None, 26, 26, 32)        320       \n",
            "_________________________________________________________________\n",
            "conv2d_1 (Conv2D)            (None, 24, 24, 32)        9248      \n",
            "_________________________________________________________________\n",
            "max_pooling2d (MaxPooling2D) (None, 12, 12, 32)        0         \n",
            "_________________________________________________________________\n",
            "conv2d_2 (Conv2D)            (None, 10, 10, 64)        18496     \n",
            "_________________________________________________________________\n",
            "conv2d_3 (Conv2D)            (None, 8, 8, 64)          36928     \n",
            "_________________________________________________________________\n",
            "flatten (Flatten)            (None, 4096)              0         \n",
            "_________________________________________________________________\n",
            "dense (Dense)                (None, 256)               1048832   \n",
            "_________________________________________________________________\n",
            "dropout_3 (Dropout)          (None, 256)               0         \n",
            "_________________________________________________________________\n",
            "dense_1 (Dense)              (None, 32)                8224      \n",
            "_________________________________________________________________\n",
            "dense_2 (Dense)              (None, 10)                330       \n",
            "=================================================================\n",
            "Total params: 1,122,378\n",
            "Trainable params: 1,122,378\n",
            "Non-trainable params: 0\n",
            "_________________________________________________________________\n"
          ]
        }
      ]
    },
    {
      "cell_type": "code",
      "metadata": {
        "id": "W8ZqhxAVkydq"
      },
      "source": [
        ""
      ],
      "execution_count": 16,
      "outputs": []
    },
    {
      "cell_type": "code",
      "metadata": {
        "id": "Qc47-r0Fkyf-"
      },
      "source": [
        "# Compile the model\n",
        "model.compile(loss='categorical_crossentropy',optimizer='adam',metrics=['accuracy'])"
      ],
      "execution_count": 17,
      "outputs": []
    },
    {
      "cell_type": "code",
      "metadata": {
        "colab": {
          "base_uri": "https://localhost:8080/"
        },
        "id": "6QP967UMkyiR",
        "outputId": "a6d4669f-c833-4256-feaa-8e9d32917fe6"
      },
      "source": [
        "# Training the model\n",
        "model.fit(x_train,y_train,epochs=12, validation_split=0.2)"
      ],
      "execution_count": 18,
      "outputs": [
        {
          "output_type": "stream",
          "name": "stdout",
          "text": [
            "Epoch 1/12\n",
            "1500/1500 [==============================] - 20s 12ms/step - loss: 0.1502 - accuracy: 0.9536 - val_loss: 0.0498 - val_accuracy: 0.9861\n",
            "Epoch 2/12\n",
            "1500/1500 [==============================] - 16s 10ms/step - loss: 0.0507 - accuracy: 0.9848 - val_loss: 0.0350 - val_accuracy: 0.9901\n",
            "Epoch 3/12\n",
            "1500/1500 [==============================] - 14s 9ms/step - loss: 0.0366 - accuracy: 0.9885 - val_loss: 0.0419 - val_accuracy: 0.9888\n",
            "Epoch 4/12\n",
            "1500/1500 [==============================] - 14s 9ms/step - loss: 0.0288 - accuracy: 0.9914 - val_loss: 0.0348 - val_accuracy: 0.9913\n",
            "Epoch 5/12\n",
            "1500/1500 [==============================] - 13s 9ms/step - loss: 0.0236 - accuracy: 0.9928 - val_loss: 0.0344 - val_accuracy: 0.9902\n",
            "Epoch 6/12\n",
            "1500/1500 [==============================] - 13s 9ms/step - loss: 0.0168 - accuracy: 0.9950 - val_loss: 0.0336 - val_accuracy: 0.9925\n",
            "Epoch 7/12\n",
            "1500/1500 [==============================] - 14s 9ms/step - loss: 0.0160 - accuracy: 0.9953 - val_loss: 0.0392 - val_accuracy: 0.9898\n",
            "Epoch 8/12\n",
            "1500/1500 [==============================] - 13s 9ms/step - loss: 0.0136 - accuracy: 0.9960 - val_loss: 0.0429 - val_accuracy: 0.9902\n",
            "Epoch 9/12\n",
            "1500/1500 [==============================] - 15s 10ms/step - loss: 0.0125 - accuracy: 0.9959 - val_loss: 0.0563 - val_accuracy: 0.9899\n",
            "Epoch 10/12\n",
            "1500/1500 [==============================] - 14s 9ms/step - loss: 0.0105 - accuracy: 0.9965 - val_loss: 0.0446 - val_accuracy: 0.9902\n",
            "Epoch 11/12\n",
            "1500/1500 [==============================] - 13s 9ms/step - loss: 0.0096 - accuracy: 0.9970 - val_loss: 0.0386 - val_accuracy: 0.9914\n",
            "Epoch 12/12\n",
            "1500/1500 [==============================] - 13s 9ms/step - loss: 0.0089 - accuracy: 0.9974 - val_loss: 0.0387 - val_accuracy: 0.9929\n"
          ]
        },
        {
          "output_type": "execute_result",
          "data": {
            "text/plain": [
              "<keras.callbacks.History at 0x7f7fdee03150>"
            ]
          },
          "metadata": {},
          "execution_count": 18
        }
      ]
    },
    {
      "cell_type": "markdown",
      "metadata": {
        "id": "7CZAkwpxoEpL"
      },
      "source": [
        "## ***Evaluating the model***"
      ]
    },
    {
      "cell_type": "code",
      "metadata": {
        "colab": {
          "base_uri": "https://localhost:8080/"
        },
        "id": "4KroR3czkymc",
        "outputId": "2b668eea-3e62-4807-9e9f-2bb0e9d89285"
      },
      "source": [
        "model.evaluate(x_test,y_test)"
      ],
      "execution_count": 19,
      "outputs": [
        {
          "output_type": "stream",
          "name": "stdout",
          "text": [
            "313/313 [==============================] - 2s 6ms/step - loss: 0.0253 - accuracy: 0.9943\n"
          ]
        },
        {
          "output_type": "execute_result",
          "data": {
            "text/plain": [
              "[0.025326885282993317, 0.9943000078201294]"
            ]
          },
          "metadata": {},
          "execution_count": 19
        }
      ]
    },
    {
      "cell_type": "code",
      "metadata": {
        "id": "OJsGQoYHkyps"
      },
      "source": [
        ""
      ],
      "execution_count": 19,
      "outputs": []
    },
    {
      "cell_type": "code",
      "metadata": {
        "id": "DU-JIrvOkyuW"
      },
      "source": [
        ""
      ],
      "execution_count": 19,
      "outputs": []
    },
    {
      "cell_type": "markdown",
      "metadata": {
        "id": "Z5R5j-u8oTE7"
      },
      "source": [
        "# ***Summary of working of CNN Model***\n",
        "* Import the libraries that are required to perform the task.\n",
        "* Download the MNIST dataset from the keras datasets. \n",
        "* Preprocess the data so that the model can give accurate results.\n",
        "\n",
        "    1.   Reshape all the images to fixed size.\n",
        "    2.   Scale the data which helps to train the model faster and accurate.\n",
        "\n",
        "* The next step is to build the model. I used a convolutional nueural network(CNN) which has the less number of parameters when compared to the previous multilayer perceptron we built.\n",
        "\n",
        "* The model is compiled with Adam optimizer which has a default learning rate,the loss is categorical crossentropy because we have 10 classes, accuracy is the metric.\n",
        "\n",
        "* The model is then trained and evaluated.\n",
        "* We can see that the CNN model outperforms the multilayer percenptron model. The number of epochs used to train the MLP model are 40 where as CNN is 12. So for unstructured data CNN performs better than MLP model.\n"
      ]
    }
  ]
}